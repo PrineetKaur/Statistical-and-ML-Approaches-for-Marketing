{
 "cells": [
  {
   "cell_type": "markdown",
   "id": "bright-england",
   "metadata": {},
   "source": [
    "![ieseg logo](./img/ieseg.png)\n",
    "\n",
    "#### MBD 2020-2021\n",
    "# Statistical & Machine Learning Approaches for Marketing\n",
    "\n",
    "## Homework Session 4"
   ]
  },
  {
   "cell_type": "markdown",
   "id": "numerical-logistics",
   "metadata": {},
   "source": [
    "## Conceptual Questions "
   ]
  },
  {
   "cell_type": "markdown",
   "id": "bearing-abuse",
   "metadata": {},
   "source": [
    "### Exercise 3 Chapter 8 Page 332"
   ]
  },
  {
   "cell_type": "markdown",
   "id": "billion-boards",
   "metadata": {},
   "source": [
    "Consider the Gini index, classification error, and entropy in a simple classification setting with two classes. Create a single plot that displays each of these quantities as a function of ˆpm1. The x-axis should display ˆpm1, ranging from 0 to 1, and the y-axis should display the value of the Gini index, classification error, and entropy. Hint: In a setting with two classes, ˆpm1 = 1 − ˆpm2. You could make this plot by hand, but it will be much easier to make in R."
   ]
  },
  {
   "cell_type": "code",
   "execution_count": 5,
   "id": "mathematical-hostel",
   "metadata": {},
   "outputs": [
    {
     "data": {
      "text/html": [
       "<ol class=list-inline>\n",
       "\t<li>0</li>\n",
       "\t<li>0.01</li>\n",
       "\t<li>0.02</li>\n",
       "\t<li>0.03</li>\n",
       "\t<li>0.04</li>\n",
       "\t<li>0.05</li>\n",
       "\t<li>0.06</li>\n",
       "\t<li>0.07</li>\n",
       "\t<li>0.08</li>\n",
       "\t<li>0.09</li>\n",
       "\t<li>0.1</li>\n",
       "\t<li>0.11</li>\n",
       "\t<li>0.12</li>\n",
       "\t<li>0.13</li>\n",
       "\t<li>0.14</li>\n",
       "\t<li>0.15</li>\n",
       "\t<li>0.16</li>\n",
       "\t<li>0.17</li>\n",
       "\t<li>0.18</li>\n",
       "\t<li>0.19</li>\n",
       "\t<li>0.2</li>\n",
       "\t<li>0.21</li>\n",
       "\t<li>0.22</li>\n",
       "\t<li>0.23</li>\n",
       "\t<li>0.24</li>\n",
       "\t<li>0.25</li>\n",
       "\t<li>0.26</li>\n",
       "\t<li>0.27</li>\n",
       "\t<li>0.28</li>\n",
       "\t<li>0.29</li>\n",
       "\t<li>0.3</li>\n",
       "\t<li>0.31</li>\n",
       "\t<li>0.32</li>\n",
       "\t<li>0.33</li>\n",
       "\t<li>0.34</li>\n",
       "\t<li>0.35</li>\n",
       "\t<li>0.36</li>\n",
       "\t<li>0.37</li>\n",
       "\t<li>0.38</li>\n",
       "\t<li>0.39</li>\n",
       "\t<li>0.4</li>\n",
       "\t<li>0.41</li>\n",
       "\t<li>0.42</li>\n",
       "\t<li>0.43</li>\n",
       "\t<li>0.44</li>\n",
       "\t<li>0.45</li>\n",
       "\t<li>0.46</li>\n",
       "\t<li>0.47</li>\n",
       "\t<li>0.48</li>\n",
       "\t<li>0.49</li>\n",
       "\t<li>0.5</li>\n",
       "\t<li>0.51</li>\n",
       "\t<li>0.52</li>\n",
       "\t<li>0.53</li>\n",
       "\t<li>0.54</li>\n",
       "\t<li>0.55</li>\n",
       "\t<li>0.56</li>\n",
       "\t<li>0.57</li>\n",
       "\t<li>0.58</li>\n",
       "\t<li>0.59</li>\n",
       "\t<li>0.6</li>\n",
       "\t<li>0.61</li>\n",
       "\t<li>0.62</li>\n",
       "\t<li>0.63</li>\n",
       "\t<li>0.64</li>\n",
       "\t<li>0.65</li>\n",
       "\t<li>0.66</li>\n",
       "\t<li>0.67</li>\n",
       "\t<li>0.68</li>\n",
       "\t<li>0.69</li>\n",
       "\t<li>0.7</li>\n",
       "\t<li>0.71</li>\n",
       "\t<li>0.72</li>\n",
       "\t<li>0.73</li>\n",
       "\t<li>0.74</li>\n",
       "\t<li>0.75</li>\n",
       "\t<li>0.76</li>\n",
       "\t<li>0.77</li>\n",
       "\t<li>0.78</li>\n",
       "\t<li>0.79</li>\n",
       "\t<li>0.8</li>\n",
       "\t<li>0.81</li>\n",
       "\t<li>0.82</li>\n",
       "\t<li>0.83</li>\n",
       "\t<li>0.84</li>\n",
       "\t<li>0.85</li>\n",
       "\t<li>0.86</li>\n",
       "\t<li>0.87</li>\n",
       "\t<li>0.88</li>\n",
       "\t<li>0.89</li>\n",
       "\t<li>0.9</li>\n",
       "\t<li>0.91</li>\n",
       "\t<li>0.92</li>\n",
       "\t<li>0.93</li>\n",
       "\t<li>0.94</li>\n",
       "\t<li>0.95</li>\n",
       "\t<li>0.96</li>\n",
       "\t<li>0.97</li>\n",
       "\t<li>0.98</li>\n",
       "\t<li>0.99</li>\n",
       "\t<li>1</li>\n",
       "</ol>\n"
      ],
      "text/latex": [
       "\\begin{enumerate*}\n",
       "\\item 0\n",
       "\\item 0.01\n",
       "\\item 0.02\n",
       "\\item 0.03\n",
       "\\item 0.04\n",
       "\\item 0.05\n",
       "\\item 0.06\n",
       "\\item 0.07\n",
       "\\item 0.08\n",
       "\\item 0.09\n",
       "\\item 0.1\n",
       "\\item 0.11\n",
       "\\item 0.12\n",
       "\\item 0.13\n",
       "\\item 0.14\n",
       "\\item 0.15\n",
       "\\item 0.16\n",
       "\\item 0.17\n",
       "\\item 0.18\n",
       "\\item 0.19\n",
       "\\item 0.2\n",
       "\\item 0.21\n",
       "\\item 0.22\n",
       "\\item 0.23\n",
       "\\item 0.24\n",
       "\\item 0.25\n",
       "\\item 0.26\n",
       "\\item 0.27\n",
       "\\item 0.28\n",
       "\\item 0.29\n",
       "\\item 0.3\n",
       "\\item 0.31\n",
       "\\item 0.32\n",
       "\\item 0.33\n",
       "\\item 0.34\n",
       "\\item 0.35\n",
       "\\item 0.36\n",
       "\\item 0.37\n",
       "\\item 0.38\n",
       "\\item 0.39\n",
       "\\item 0.4\n",
       "\\item 0.41\n",
       "\\item 0.42\n",
       "\\item 0.43\n",
       "\\item 0.44\n",
       "\\item 0.45\n",
       "\\item 0.46\n",
       "\\item 0.47\n",
       "\\item 0.48\n",
       "\\item 0.49\n",
       "\\item 0.5\n",
       "\\item 0.51\n",
       "\\item 0.52\n",
       "\\item 0.53\n",
       "\\item 0.54\n",
       "\\item 0.55\n",
       "\\item 0.56\n",
       "\\item 0.57\n",
       "\\item 0.58\n",
       "\\item 0.59\n",
       "\\item 0.6\n",
       "\\item 0.61\n",
       "\\item 0.62\n",
       "\\item 0.63\n",
       "\\item 0.64\n",
       "\\item 0.65\n",
       "\\item 0.66\n",
       "\\item 0.67\n",
       "\\item 0.68\n",
       "\\item 0.69\n",
       "\\item 0.7\n",
       "\\item 0.71\n",
       "\\item 0.72\n",
       "\\item 0.73\n",
       "\\item 0.74\n",
       "\\item 0.75\n",
       "\\item 0.76\n",
       "\\item 0.77\n",
       "\\item 0.78\n",
       "\\item 0.79\n",
       "\\item 0.8\n",
       "\\item 0.81\n",
       "\\item 0.82\n",
       "\\item 0.83\n",
       "\\item 0.84\n",
       "\\item 0.85\n",
       "\\item 0.86\n",
       "\\item 0.87\n",
       "\\item 0.88\n",
       "\\item 0.89\n",
       "\\item 0.9\n",
       "\\item 0.91\n",
       "\\item 0.92\n",
       "\\item 0.93\n",
       "\\item 0.94\n",
       "\\item 0.95\n",
       "\\item 0.96\n",
       "\\item 0.97\n",
       "\\item 0.98\n",
       "\\item 0.99\n",
       "\\item 1\n",
       "\\end{enumerate*}\n"
      ],
      "text/markdown": [
       "1. 0\n",
       "2. 0.01\n",
       "3. 0.02\n",
       "4. 0.03\n",
       "5. 0.04\n",
       "6. 0.05\n",
       "7. 0.06\n",
       "8. 0.07\n",
       "9. 0.08\n",
       "10. 0.09\n",
       "11. 0.1\n",
       "12. 0.11\n",
       "13. 0.12\n",
       "14. 0.13\n",
       "15. 0.14\n",
       "16. 0.15\n",
       "17. 0.16\n",
       "18. 0.17\n",
       "19. 0.18\n",
       "20. 0.19\n",
       "21. 0.2\n",
       "22. 0.21\n",
       "23. 0.22\n",
       "24. 0.23\n",
       "25. 0.24\n",
       "26. 0.25\n",
       "27. 0.26\n",
       "28. 0.27\n",
       "29. 0.28\n",
       "30. 0.29\n",
       "31. 0.3\n",
       "32. 0.31\n",
       "33. 0.32\n",
       "34. 0.33\n",
       "35. 0.34\n",
       "36. 0.35\n",
       "37. 0.36\n",
       "38. 0.37\n",
       "39. 0.38\n",
       "40. 0.39\n",
       "41. 0.4\n",
       "42. 0.41\n",
       "43. 0.42\n",
       "44. 0.43\n",
       "45. 0.44\n",
       "46. 0.45\n",
       "47. 0.46\n",
       "48. 0.47\n",
       "49. 0.48\n",
       "50. 0.49\n",
       "51. 0.5\n",
       "52. 0.51\n",
       "53. 0.52\n",
       "54. 0.53\n",
       "55. 0.54\n",
       "56. 0.55\n",
       "57. 0.56\n",
       "58. 0.57\n",
       "59. 0.58\n",
       "60. 0.59\n",
       "61. 0.6\n",
       "62. 0.61\n",
       "63. 0.62\n",
       "64. 0.63\n",
       "65. 0.64\n",
       "66. 0.65\n",
       "67. 0.66\n",
       "68. 0.67\n",
       "69. 0.68\n",
       "70. 0.69\n",
       "71. 0.7\n",
       "72. 0.71\n",
       "73. 0.72\n",
       "74. 0.73\n",
       "75. 0.74\n",
       "76. 0.75\n",
       "77. 0.76\n",
       "78. 0.77\n",
       "79. 0.78\n",
       "80. 0.79\n",
       "81. 0.8\n",
       "82. 0.81\n",
       "83. 0.82\n",
       "84. 0.83\n",
       "85. 0.84\n",
       "86. 0.85\n",
       "87. 0.86\n",
       "88. 0.87\n",
       "89. 0.88\n",
       "90. 0.89\n",
       "91. 0.9\n",
       "92. 0.91\n",
       "93. 0.92\n",
       "94. 0.93\n",
       "95. 0.94\n",
       "96. 0.95\n",
       "97. 0.96\n",
       "98. 0.97\n",
       "99. 0.98\n",
       "100. 0.99\n",
       "101. 1\n",
       "\n",
       "\n"
      ],
      "text/plain": [
       "  [1] 0.00 0.01 0.02 0.03 0.04 0.05 0.06 0.07 0.08 0.09 0.10 0.11 0.12 0.13 0.14\n",
       " [16] 0.15 0.16 0.17 0.18 0.19 0.20 0.21 0.22 0.23 0.24 0.25 0.26 0.27 0.28 0.29\n",
       " [31] 0.30 0.31 0.32 0.33 0.34 0.35 0.36 0.37 0.38 0.39 0.40 0.41 0.42 0.43 0.44\n",
       " [46] 0.45 0.46 0.47 0.48 0.49 0.50 0.51 0.52 0.53 0.54 0.55 0.56 0.57 0.58 0.59\n",
       " [61] 0.60 0.61 0.62 0.63 0.64 0.65 0.66 0.67 0.68 0.69 0.70 0.71 0.72 0.73 0.74\n",
       " [76] 0.75 0.76 0.77 0.78 0.79 0.80 0.81 0.82 0.83 0.84 0.85 0.86 0.87 0.88 0.89\n",
       " [91] 0.90 0.91 0.92 0.93 0.94 0.95 0.96 0.97 0.98 0.99 1.00"
      ]
     },
     "metadata": {},
     "output_type": "display_data"
    }
   ],
   "source": [
    "p <- seq(0, 1, 0.01)\n",
    "p"
   ]
  },
  {
   "cell_type": "code",
   "execution_count": 6,
   "id": "imperial-carrier",
   "metadata": {},
   "outputs": [
    {
     "data": {
      "text/html": [
       "<ol class=list-inline>\n",
       "\t<li>0</li>\n",
       "\t<li>0.0198</li>\n",
       "\t<li>0.0392</li>\n",
       "\t<li>0.0582</li>\n",
       "\t<li>0.0768</li>\n",
       "\t<li>0.095</li>\n",
       "\t<li>0.1128</li>\n",
       "\t<li>0.1302</li>\n",
       "\t<li>0.1472</li>\n",
       "\t<li>0.1638</li>\n",
       "\t<li>0.18</li>\n",
       "\t<li>0.1958</li>\n",
       "\t<li>0.2112</li>\n",
       "\t<li>0.2262</li>\n",
       "\t<li>0.2408</li>\n",
       "\t<li>0.255</li>\n",
       "\t<li>0.2688</li>\n",
       "\t<li>0.2822</li>\n",
       "\t<li>0.2952</li>\n",
       "\t<li>0.3078</li>\n",
       "\t<li>0.32</li>\n",
       "\t<li>0.3318</li>\n",
       "\t<li>0.3432</li>\n",
       "\t<li>0.3542</li>\n",
       "\t<li>0.3648</li>\n",
       "\t<li>0.375</li>\n",
       "\t<li>0.3848</li>\n",
       "\t<li>0.3942</li>\n",
       "\t<li>0.4032</li>\n",
       "\t<li>0.4118</li>\n",
       "\t<li>0.42</li>\n",
       "\t<li>0.4278</li>\n",
       "\t<li>0.4352</li>\n",
       "\t<li>0.4422</li>\n",
       "\t<li>0.4488</li>\n",
       "\t<li>0.455</li>\n",
       "\t<li>0.4608</li>\n",
       "\t<li>0.4662</li>\n",
       "\t<li>0.4712</li>\n",
       "\t<li>0.4758</li>\n",
       "\t<li>0.48</li>\n",
       "\t<li>0.4838</li>\n",
       "\t<li>0.4872</li>\n",
       "\t<li>0.4902</li>\n",
       "\t<li>0.4928</li>\n",
       "\t<li>0.495</li>\n",
       "\t<li>0.4968</li>\n",
       "\t<li>0.4982</li>\n",
       "\t<li>0.4992</li>\n",
       "\t<li>0.4998</li>\n",
       "\t<li>0.5</li>\n",
       "\t<li>0.4998</li>\n",
       "\t<li>0.4992</li>\n",
       "\t<li>0.4982</li>\n",
       "\t<li>0.4968</li>\n",
       "\t<li>0.495</li>\n",
       "\t<li>0.4928</li>\n",
       "\t<li>0.4902</li>\n",
       "\t<li>0.4872</li>\n",
       "\t<li>0.4838</li>\n",
       "\t<li>0.48</li>\n",
       "\t<li>0.4758</li>\n",
       "\t<li>0.4712</li>\n",
       "\t<li>0.4662</li>\n",
       "\t<li>0.4608</li>\n",
       "\t<li>0.455</li>\n",
       "\t<li>0.4488</li>\n",
       "\t<li>0.4422</li>\n",
       "\t<li>0.4352</li>\n",
       "\t<li>0.4278</li>\n",
       "\t<li>0.42</li>\n",
       "\t<li>0.4118</li>\n",
       "\t<li>0.4032</li>\n",
       "\t<li>0.3942</li>\n",
       "\t<li>0.3848</li>\n",
       "\t<li>0.375</li>\n",
       "\t<li>0.3648</li>\n",
       "\t<li>0.3542</li>\n",
       "\t<li>0.3432</li>\n",
       "\t<li>0.3318</li>\n",
       "\t<li>0.32</li>\n",
       "\t<li>0.3078</li>\n",
       "\t<li>0.2952</li>\n",
       "\t<li>0.2822</li>\n",
       "\t<li>0.2688</li>\n",
       "\t<li>0.255</li>\n",
       "\t<li>0.2408</li>\n",
       "\t<li>0.2262</li>\n",
       "\t<li>0.2112</li>\n",
       "\t<li>0.1958</li>\n",
       "\t<li>0.18</li>\n",
       "\t<li>0.1638</li>\n",
       "\t<li>0.1472</li>\n",
       "\t<li>0.1302</li>\n",
       "\t<li>0.1128</li>\n",
       "\t<li>0.0949999999999999</li>\n",
       "\t<li>0.0768000000000001</li>\n",
       "\t<li>0.0582000000000001</li>\n",
       "\t<li>0.0392</li>\n",
       "\t<li>0.0198</li>\n",
       "\t<li>0</li>\n",
       "</ol>\n"
      ],
      "text/latex": [
       "\\begin{enumerate*}\n",
       "\\item 0\n",
       "\\item 0.0198\n",
       "\\item 0.0392\n",
       "\\item 0.0582\n",
       "\\item 0.0768\n",
       "\\item 0.095\n",
       "\\item 0.1128\n",
       "\\item 0.1302\n",
       "\\item 0.1472\n",
       "\\item 0.1638\n",
       "\\item 0.18\n",
       "\\item 0.1958\n",
       "\\item 0.2112\n",
       "\\item 0.2262\n",
       "\\item 0.2408\n",
       "\\item 0.255\n",
       "\\item 0.2688\n",
       "\\item 0.2822\n",
       "\\item 0.2952\n",
       "\\item 0.3078\n",
       "\\item 0.32\n",
       "\\item 0.3318\n",
       "\\item 0.3432\n",
       "\\item 0.3542\n",
       "\\item 0.3648\n",
       "\\item 0.375\n",
       "\\item 0.3848\n",
       "\\item 0.3942\n",
       "\\item 0.4032\n",
       "\\item 0.4118\n",
       "\\item 0.42\n",
       "\\item 0.4278\n",
       "\\item 0.4352\n",
       "\\item 0.4422\n",
       "\\item 0.4488\n",
       "\\item 0.455\n",
       "\\item 0.4608\n",
       "\\item 0.4662\n",
       "\\item 0.4712\n",
       "\\item 0.4758\n",
       "\\item 0.48\n",
       "\\item 0.4838\n",
       "\\item 0.4872\n",
       "\\item 0.4902\n",
       "\\item 0.4928\n",
       "\\item 0.495\n",
       "\\item 0.4968\n",
       "\\item 0.4982\n",
       "\\item 0.4992\n",
       "\\item 0.4998\n",
       "\\item 0.5\n",
       "\\item 0.4998\n",
       "\\item 0.4992\n",
       "\\item 0.4982\n",
       "\\item 0.4968\n",
       "\\item 0.495\n",
       "\\item 0.4928\n",
       "\\item 0.4902\n",
       "\\item 0.4872\n",
       "\\item 0.4838\n",
       "\\item 0.48\n",
       "\\item 0.4758\n",
       "\\item 0.4712\n",
       "\\item 0.4662\n",
       "\\item 0.4608\n",
       "\\item 0.455\n",
       "\\item 0.4488\n",
       "\\item 0.4422\n",
       "\\item 0.4352\n",
       "\\item 0.4278\n",
       "\\item 0.42\n",
       "\\item 0.4118\n",
       "\\item 0.4032\n",
       "\\item 0.3942\n",
       "\\item 0.3848\n",
       "\\item 0.375\n",
       "\\item 0.3648\n",
       "\\item 0.3542\n",
       "\\item 0.3432\n",
       "\\item 0.3318\n",
       "\\item 0.32\n",
       "\\item 0.3078\n",
       "\\item 0.2952\n",
       "\\item 0.2822\n",
       "\\item 0.2688\n",
       "\\item 0.255\n",
       "\\item 0.2408\n",
       "\\item 0.2262\n",
       "\\item 0.2112\n",
       "\\item 0.1958\n",
       "\\item 0.18\n",
       "\\item 0.1638\n",
       "\\item 0.1472\n",
       "\\item 0.1302\n",
       "\\item 0.1128\n",
       "\\item 0.0949999999999999\n",
       "\\item 0.0768000000000001\n",
       "\\item 0.0582000000000001\n",
       "\\item 0.0392\n",
       "\\item 0.0198\n",
       "\\item 0\n",
       "\\end{enumerate*}\n"
      ],
      "text/markdown": [
       "1. 0\n",
       "2. 0.0198\n",
       "3. 0.0392\n",
       "4. 0.0582\n",
       "5. 0.0768\n",
       "6. 0.095\n",
       "7. 0.1128\n",
       "8. 0.1302\n",
       "9. 0.1472\n",
       "10. 0.1638\n",
       "11. 0.18\n",
       "12. 0.1958\n",
       "13. 0.2112\n",
       "14. 0.2262\n",
       "15. 0.2408\n",
       "16. 0.255\n",
       "17. 0.2688\n",
       "18. 0.2822\n",
       "19. 0.2952\n",
       "20. 0.3078\n",
       "21. 0.32\n",
       "22. 0.3318\n",
       "23. 0.3432\n",
       "24. 0.3542\n",
       "25. 0.3648\n",
       "26. 0.375\n",
       "27. 0.3848\n",
       "28. 0.3942\n",
       "29. 0.4032\n",
       "30. 0.4118\n",
       "31. 0.42\n",
       "32. 0.4278\n",
       "33. 0.4352\n",
       "34. 0.4422\n",
       "35. 0.4488\n",
       "36. 0.455\n",
       "37. 0.4608\n",
       "38. 0.4662\n",
       "39. 0.4712\n",
       "40. 0.4758\n",
       "41. 0.48\n",
       "42. 0.4838\n",
       "43. 0.4872\n",
       "44. 0.4902\n",
       "45. 0.4928\n",
       "46. 0.495\n",
       "47. 0.4968\n",
       "48. 0.4982\n",
       "49. 0.4992\n",
       "50. 0.4998\n",
       "51. 0.5\n",
       "52. 0.4998\n",
       "53. 0.4992\n",
       "54. 0.4982\n",
       "55. 0.4968\n",
       "56. 0.495\n",
       "57. 0.4928\n",
       "58. 0.4902\n",
       "59. 0.4872\n",
       "60. 0.4838\n",
       "61. 0.48\n",
       "62. 0.4758\n",
       "63. 0.4712\n",
       "64. 0.4662\n",
       "65. 0.4608\n",
       "66. 0.455\n",
       "67. 0.4488\n",
       "68. 0.4422\n",
       "69. 0.4352\n",
       "70. 0.4278\n",
       "71. 0.42\n",
       "72. 0.4118\n",
       "73. 0.4032\n",
       "74. 0.3942\n",
       "75. 0.3848\n",
       "76. 0.375\n",
       "77. 0.3648\n",
       "78. 0.3542\n",
       "79. 0.3432\n",
       "80. 0.3318\n",
       "81. 0.32\n",
       "82. 0.3078\n",
       "83. 0.2952\n",
       "84. 0.2822\n",
       "85. 0.2688\n",
       "86. 0.255\n",
       "87. 0.2408\n",
       "88. 0.2262\n",
       "89. 0.2112\n",
       "90. 0.1958\n",
       "91. 0.18\n",
       "92. 0.1638\n",
       "93. 0.1472\n",
       "94. 0.1302\n",
       "95. 0.1128\n",
       "96. 0.0949999999999999\n",
       "97. 0.0768000000000001\n",
       "98. 0.0582000000000001\n",
       "99. 0.0392\n",
       "100. 0.0198\n",
       "101. 0\n",
       "\n",
       "\n"
      ],
      "text/plain": [
       "  [1] 0.0000 0.0198 0.0392 0.0582 0.0768 0.0950 0.1128 0.1302 0.1472 0.1638\n",
       " [11] 0.1800 0.1958 0.2112 0.2262 0.2408 0.2550 0.2688 0.2822 0.2952 0.3078\n",
       " [21] 0.3200 0.3318 0.3432 0.3542 0.3648 0.3750 0.3848 0.3942 0.4032 0.4118\n",
       " [31] 0.4200 0.4278 0.4352 0.4422 0.4488 0.4550 0.4608 0.4662 0.4712 0.4758\n",
       " [41] 0.4800 0.4838 0.4872 0.4902 0.4928 0.4950 0.4968 0.4982 0.4992 0.4998\n",
       " [51] 0.5000 0.4998 0.4992 0.4982 0.4968 0.4950 0.4928 0.4902 0.4872 0.4838\n",
       " [61] 0.4800 0.4758 0.4712 0.4662 0.4608 0.4550 0.4488 0.4422 0.4352 0.4278\n",
       " [71] 0.4200 0.4118 0.4032 0.3942 0.3848 0.3750 0.3648 0.3542 0.3432 0.3318\n",
       " [81] 0.3200 0.3078 0.2952 0.2822 0.2688 0.2550 0.2408 0.2262 0.2112 0.1958\n",
       " [91] 0.1800 0.1638 0.1472 0.1302 0.1128 0.0950 0.0768 0.0582 0.0392 0.0198\n",
       "[101] 0.0000"
      ]
     },
     "metadata": {},
     "output_type": "display_data"
    }
   ],
   "source": [
    "gini.index <- 2 * p * (1 - p)\n",
    "gini.index"
   ]
  },
  {
   "cell_type": "code",
   "execution_count": 9,
   "id": "paperback-sensitivity",
   "metadata": {},
   "outputs": [],
   "source": [
    "class.error <- 1 - pmax(p, 1 - p)\n",
    "cross.entropy <- - (p * log(p) + (1 - p) * log(1 - p))"
   ]
  },
  {
   "cell_type": "code",
   "execution_count": 10,
   "id": "cardiovascular-development",
   "metadata": {},
   "outputs": [
    {
     "data": {
      "image/png": "[encoded data removed]",
      "text/plain": [
       "plot without title"
      ]
     },
     "metadata": {},
     "output_type": "display_data"
    }
   ],
   "source": [
    "par(bg = \"papayawhip\")\n",
    "matplot(p, cbind(gini.index, class.error, cross.entropy), pch=c(15,17,19) ,ylab = \"gini.index, class.error, cross.entropy\",col = c(\"darkolivegreen4\" , \"wheat\", \"tomato2\"), type = 'b')\n",
    "legend('bottom', inset=.01, legend = c('gini.index', 'class.error', 'cross.entropy'), col = c(\"darkolivegreen4\" , \"wheat\", \"tomato2\"), pch=c(15,17,19))"
   ]
  },
  {
   "cell_type": "markdown",
   "id": "increasing-dryer",
   "metadata": {},
   "source": [
    "### Exercise 5 Chapter 8 Page 332"
   ]
  },
  {
   "cell_type": "markdown",
   "id": "isolated-ranking",
   "metadata": {},
   "source": [
    "Suppose we produce ten bootstrapped samples from a data set containing red and green classes. We then apply a classification tree to each bootstrapped sample and, for a specific value of X, produce 10 estimates of P(Class is Red|X) : 0.1,0.15,0.2,0.2,0.55,0.6,0.6,0.65,0.7,and 0.75."
   ]
  },
  {
   "cell_type": "markdown",
   "id": "floral-spine",
   "metadata": {},
   "source": [
    "There are two common ways to combine these results together into a single class prediction. One is the majority vote approach discussed in this chapter. The second approach is to classify based on the average probability. In this example, what is the final classification under each of these two approaches?"
   ]
  },
  {
   "cell_type": "markdown",
   "id": "isolated-style",
   "metadata": {},
   "source": [
    "Approach 1 : Majority vote approach\n",
    "\n",
    "6 of the 10 classification probabilities predict a red class. Hence Prediction : RED\n",
    "\n",
    "Approach 2 : Average probability approach\n",
    "\n",
    "The average of the probability :"
   ]
  },
  {
   "cell_type": "code",
   "execution_count": 12,
   "id": "funded-encyclopedia",
   "metadata": {},
   "outputs": [
    {
     "data": {
      "text/html": [
       "0.45"
      ],
      "text/latex": [
       "0.45"
      ],
      "text/markdown": [
       "0.45"
      ],
      "text/plain": [
       "[1] 0.45"
      ]
     },
     "metadata": {},
     "output_type": "display_data"
    }
   ],
   "source": [
    "(0.1 + 0.15 + 0.2 + 0.2 + 0.55 + 0.6 + 0.6 + 0.65 + 0.7 + 0.75)/10"
   ]
  },
  {
   "cell_type": "markdown",
   "id": "visible-reverse",
   "metadata": {},
   "source": [
    "The average probability < 0.5\n",
    "\n",
    "Hence predicted : BLUE"
   ]
  },
  {
   "cell_type": "markdown",
   "id": "refined-raleigh",
   "metadata": {},
   "source": [
    "## Applied Questions"
   ]
  },
  {
   "cell_type": "markdown",
   "id": "wrong-slovakia",
   "metadata": {},
   "source": [
    "### Exercise 8 Chapter 8 Page 333"
   ]
  },
  {
   "cell_type": "markdown",
   "id": "appropriate-static",
   "metadata": {},
   "source": [
    "In the lab, a classification tree was applied to the Carseats data set after converting Sales into a qualitative response variable. Now we will seek to predict Sales using regression trees and related approaches, treating the response as a quantitative variable.\n",
    "\n",
    "(a) Split the data set into a training set and a test set."
   ]
  },
  {
   "cell_type": "code",
   "execution_count": 17,
   "id": "passive-swaziland",
   "metadata": {},
   "outputs": [
    {
     "name": "stderr",
     "output_type": "stream",
     "text": [
      "The following objects are masked from Carseats (pos = 3):\n",
      "\n",
      "    Advertising, Age, CompPrice, Education, Income, Population, Price,\n",
      "    Sales, ShelveLoc, Urban, US\n",
      "\n",
      "The following objects are masked from Carseats (pos = 4):\n",
      "\n",
      "    Advertising, Age, CompPrice, Education, Income, Population, Price,\n",
      "    Sales, ShelveLoc, Urban, US\n",
      "\n",
      "The following objects are masked from Carseats (pos = 5):\n",
      "\n",
      "    Advertising, Age, CompPrice, Education, Income, Population, Price,\n",
      "    Sales, ShelveLoc, Urban, US\n",
      "\n"
     ]
    }
   ],
   "source": [
    "library(tree)\n",
    "library(ISLR)\n",
    "attach(Carseats)\n",
    "\n",
    "set.seed(1)\n",
    "train <- sample(1:nrow(Carseats), nrow(Carseats)/2)\n",
    "car_train <- Carseats[train, ]\n",
    "car_test <- Carseats[-train, ]"
   ]
  },
  {
   "cell_type": "markdown",
   "id": "passive-complex",
   "metadata": {},
   "source": [
    "(b) Fit a regression tree to the training set. Plot the tree, and interpret the results. What test MSE do you obtain?"
   ]
  },
  {
   "cell_type": "code",
   "execution_count": 18,
   "id": "standing-reliance",
   "metadata": {},
   "outputs": [
    {
     "data": {
      "image/png": "[encoded data removed]",
      "text/plain": [
       "plot without title"
      ]
     },
     "metadata": {},
     "output_type": "display_data"
    }
   ],
   "source": [
    "model_tree <- tree(Sales ~ ., data = car_train)\n",
    "plot(model_tree)\n",
    "text(model_tree, pretty=0)"
   ]
  },
  {
   "cell_type": "code",
   "execution_count": 19,
   "id": "advised-education",
   "metadata": {},
   "outputs": [
    {
     "data": {
      "text/plain": [
       "\n",
       "Regression tree:\n",
       "tree(formula = Sales ~ ., data = car_train)\n",
       "Variables actually used in tree construction:\n",
       "[1] \"ShelveLoc\"   \"Price\"       \"Age\"         \"Advertising\" \"CompPrice\"  \n",
       "[6] \"US\"         \n",
       "Number of terminal nodes:  18 \n",
       "Residual mean deviance:  2.167 = 394.3 / 182 \n",
       "Distribution of residuals:\n",
       "    Min.  1st Qu.   Median     Mean  3rd Qu.     Max. \n",
       "-3.88200 -0.88200 -0.08712  0.00000  0.89590  4.09900 "
      ]
     },
     "metadata": {},
     "output_type": "display_data"
    }
   ],
   "source": [
    "summary(model_tree)"
   ]
  },
  {
   "cell_type": "code",
   "execution_count": 22,
   "id": "fatal-requirement",
   "metadata": {},
   "outputs": [
    {
     "name": "stdout",
     "output_type": "stream",
     "text": [
      "MSE :  4.922039"
     ]
    }
   ],
   "source": [
    "pred = predict(model_tree, newdata = car_test)\n",
    "cat(\"MSE : \", mean((pred - car_test$Sales)^2))"
   ]
  },
  {
   "cell_type": "markdown",
   "id": "domestic-patent",
   "metadata": {},
   "source": [
    "(c) Use cross-validation in order to determine the optimal level of tree complexity. Does pruning the tree improve the test MSE?"
   ]
  },
  {
   "cell_type": "code",
   "execution_count": 24,
   "id": "responsible-blank",
   "metadata": {},
   "outputs": [
    {
     "data": {
      "image/png": "[encoded data removed]",
      "text/plain": [
       "plot without title"
      ]
     },
     "metadata": {},
     "output_type": "display_data"
    }
   ],
   "source": [
    "set.seed(1)\n",
    "cv.car = cv.tree(model_tree)\n",
    "plot(cv.car$size, cv.car$dev, type = \"b\")"
   ]
  },
  {
   "cell_type": "code",
   "execution_count": 25,
   "id": "disturbed-authorization",
   "metadata": {},
   "outputs": [
    {
     "data": {
      "image/png": "[encoded data removed]",
      "text/plain": [
       "plot without title"
      ]
     },
     "metadata": {},
     "output_type": "display_data"
    }
   ],
   "source": [
    "prune.car = prune.tree(model_tree, best = 8)\n",
    "plot(prune.car)\n",
    "text(prune.car,pretty=0)"
   ]
  },
  {
   "cell_type": "code",
   "execution_count": 27,
   "id": "distinguished-skiing",
   "metadata": {},
   "outputs": [
    {
     "name": "stdout",
     "output_type": "stream",
     "text": [
      "MSE :  5.113254"
     ]
    }
   ],
   "source": [
    "pred = predict(prune.car, newdata= car_test)\n",
    "cat(\"MSE : \", mean((pred - car_test$Sales)^2))"
   ]
  },
  {
   "cell_type": "markdown",
   "id": "third-killing",
   "metadata": {},
   "source": [
    "(d) Use the bagging approach in order to analyze this data. What test MSE do you obtain? Use the importance() function to determine which variables are most important."
   ]
  },
  {
   "cell_type": "code",
   "execution_count": 28,
   "id": "agreed-gibson",
   "metadata": {},
   "outputs": [
    {
     "name": "stderr",
     "output_type": "stream",
     "text": [
      "randomForest 4.6-14\n",
      "Type rfNews() to see new features/changes/bug fixes.\n"
     ]
    }
   ],
   "source": [
    "library(randomForest)\n",
    "\n",
    "set.seed(1)\n",
    "\n",
    "rf_model = randomForest(Sales~., data = car_train, mtry = 10, importance = TRUE)"
   ]
  },
  {
   "cell_type": "code",
   "execution_count": 29,
   "id": "mechanical-edmonton",
   "metadata": {},
   "outputs": [
    {
     "name": "stdout",
     "output_type": "stream",
     "text": [
      "MSE :  2.605253"
     ]
    }
   ],
   "source": [
    "pred = predict(rf_model, newdata = car_test)\n",
    "cat(\"MSE : \", mean((pred - car_test$Sales)^2))"
   ]
  },
  {
   "cell_type": "code",
   "execution_count": 30,
   "id": "other-kidney",
   "metadata": {
    "scrolled": true
   },
   "outputs": [
    {
     "data": {
      "text/html": [
       "<table>\n",
       "<thead><tr><th></th><th scope=col>%IncMSE</th><th scope=col>IncNodePurity</th></tr></thead>\n",
       "<tbody>\n",
       "\t<tr><th scope=row>CompPrice</th><td>24.8888481</td><td>170.182937</td></tr>\n",
       "\t<tr><th scope=row>Income</th><td> 4.7121131</td><td> 91.264880</td></tr>\n",
       "\t<tr><th scope=row>Advertising</th><td>12.7692401</td><td> 97.164338</td></tr>\n",
       "\t<tr><th scope=row>Population</th><td>-1.8074075</td><td> 58.244596</td></tr>\n",
       "\t<tr><th scope=row>Price</th><td>56.3326252</td><td>502.903407</td></tr>\n",
       "\t<tr><th scope=row>ShelveLoc</th><td>48.8886689</td><td>380.032715</td></tr>\n",
       "\t<tr><th scope=row>Age</th><td>17.7275460</td><td>157.846774</td></tr>\n",
       "\t<tr><th scope=row>Education</th><td> 0.5962186</td><td> 44.598731</td></tr>\n",
       "\t<tr><th scope=row>Urban</th><td> 0.1728373</td><td>  9.822082</td></tr>\n",
       "\t<tr><th scope=row>US</th><td> 4.2172102</td><td> 18.073863</td></tr>\n",
       "</tbody>\n",
       "</table>\n"
      ],
      "text/latex": [
       "\\begin{tabular}{r|ll}\n",
       "  & \\%IncMSE & IncNodePurity\\\\\n",
       "\\hline\n",
       "\tCompPrice & 24.8888481 & 170.182937\\\\\n",
       "\tIncome &  4.7121131 &  91.264880\\\\\n",
       "\tAdvertising & 12.7692401 &  97.164338\\\\\n",
       "\tPopulation & -1.8074075 &  58.244596\\\\\n",
       "\tPrice & 56.3326252 & 502.903407\\\\\n",
       "\tShelveLoc & 48.8886689 & 380.032715\\\\\n",
       "\tAge & 17.7275460 & 157.846774\\\\\n",
       "\tEducation &  0.5962186 &  44.598731\\\\\n",
       "\tUrban &  0.1728373 &   9.822082\\\\\n",
       "\tUS &  4.2172102 &  18.073863\\\\\n",
       "\\end{tabular}\n"
      ],
      "text/markdown": [
       "\n",
       "| <!--/--> | %IncMSE | IncNodePurity |\n",
       "|---|---|---|\n",
       "| CompPrice | 24.8888481 | 170.182937 |\n",
       "| Income |  4.7121131 |  91.264880 |\n",
       "| Advertising | 12.7692401 |  97.164338 |\n",
       "| Population | -1.8074075 |  58.244596 |\n",
       "| Price | 56.3326252 | 502.903407 |\n",
       "| ShelveLoc | 48.8886689 | 380.032715 |\n",
       "| Age | 17.7275460 | 157.846774 |\n",
       "| Education |  0.5962186 |  44.598731 |\n",
       "| Urban |  0.1728373 |   9.822082 |\n",
       "| US |  4.2172102 |  18.073863 |\n",
       "\n"
      ],
      "text/plain": [
       "            %IncMSE    IncNodePurity\n",
       "CompPrice   24.8888481 170.182937   \n",
       "Income       4.7121131  91.264880   \n",
       "Advertising 12.7692401  97.164338   \n",
       "Population  -1.8074075  58.244596   \n",
       "Price       56.3326252 502.903407   \n",
       "ShelveLoc   48.8886689 380.032715   \n",
       "Age         17.7275460 157.846774   \n",
       "Education    0.5962186  44.598731   \n",
       "Urban        0.1728373   9.822082   \n",
       "US           4.2172102  18.073863   "
      ]
     },
     "metadata": {},
     "output_type": "display_data"
    }
   ],
   "source": [
    "importance(rf_model)"
   ]
  },
  {
   "cell_type": "code",
   "execution_count": 32,
   "id": "alternative-photographer",
   "metadata": {},
   "outputs": [
    {
     "data": {
      "image/png": "[encoded data removed]",
      "text/plain": [
       "plot without title"
      ]
     },
     "metadata": {},
     "output_type": "display_data"
    }
   ],
   "source": [
    "varImpPlot(rf_model)"
   ]
  },
  {
   "cell_type": "markdown",
   "id": "fifth-cache",
   "metadata": {},
   "source": [
    "(e) Use random forests to analyze this data. What test MSE do you obtain? Use the importance() function to determine which variables are most important. Describe the effect of m, the number of variables considered at each  split, on the error rate obtained."
   ]
  },
  {
   "cell_type": "code",
   "execution_count": 33,
   "id": "grand-arlington",
   "metadata": {},
   "outputs": [
    {
     "name": "stdout",
     "output_type": "stream",
     "text": [
      "MSE :  2.960559"
     ]
    }
   ],
   "source": [
    "set.seed(1)\n",
    "rf_model = randomForest(Sales~., data = car_train, mtry = 3, importance = TRUE)\n",
    "pred = predict(rf_model, newdata = car_test)\n",
    "cat(\"MSE : \", mean((pred - car_test$Sales)^2))"
   ]
  },
  {
   "cell_type": "markdown",
   "id": "black-irrigation",
   "metadata": {},
   "source": [
    "### Exercise 9 Chapter 8 Page 334"
   ]
  },
  {
   "cell_type": "markdown",
   "id": "first-spyware",
   "metadata": {},
   "source": [
    "This problem involves the OJ dataset which is part of the ISLR package.\n",
    "\n",
    "(a) Create a training set containing a random sample of 800 observations, and a test set containing the remaining observations."
   ]
  },
  {
   "cell_type": "code",
   "execution_count": 34,
   "id": "soviet-rings",
   "metadata": {},
   "outputs": [],
   "source": [
    "library(ISLR)\n",
    "\n",
    "set.seed(1)\n",
    "\n",
    "train = sample(dim(OJ)[1],800)\n",
    "\n",
    "OJ.train = OJ[train,]\n",
    "OJ.test = OJ[-train,]"
   ]
  },
  {
   "cell_type": "markdown",
   "id": "middle-dancing",
   "metadata": {},
   "source": [
    "(b) Fit a tree to the training data, with Purchase as the response and the other variables as predictors. Use the summary() function to produce summary statistics about the tree, and describe the results obtained. What is the training error rate? How many terminal nodes does the tree have?"
   ]
  },
  {
   "cell_type": "code",
   "execution_count": 35,
   "id": "straight-michael",
   "metadata": {
    "scrolled": false
   },
   "outputs": [
    {
     "data": {
      "text/plain": [
       "\n",
       "Classification tree:\n",
       "tree(formula = Purchase ~ ., data = OJ.train)\n",
       "Variables actually used in tree construction:\n",
       "[1] \"LoyalCH\"       \"PriceDiff\"     \"SpecialCH\"     \"ListPriceDiff\"\n",
       "[5] \"PctDiscMM\"    \n",
       "Number of terminal nodes:  9 \n",
       "Residual mean deviance:  0.7432 = 587.8 / 791 \n",
       "Misclassification error rate: 0.1588 = 127 / 800 "
      ]
     },
     "metadata": {},
     "output_type": "display_data"
    }
   ],
   "source": [
    "OJ.tree = tree(Purchase ~ ., data = OJ.train)\n",
    "summary(OJ.tree)"
   ]
  },
  {
   "cell_type": "markdown",
   "id": "agreed-transaction",
   "metadata": {},
   "source": [
    "Error Rate : 0.159\n",
    "\n",
    "No. of terminal nodes : 9"
   ]
  },
  {
   "cell_type": "markdown",
   "id": "civilian-burlington",
   "metadata": {},
   "source": [
    "(c) Type in the name of the tree object in order to get a detailed text output. Pick one of the terminal nodes, and interpret the information displayed."
   ]
  },
  {
   "cell_type": "code",
   "execution_count": 40,
   "id": "behavioral-continent",
   "metadata": {},
   "outputs": [
    {
     "data": {
      "text/plain": [
       "node), split, n, deviance, yval, (yprob)\n",
       "      * denotes terminal node\n",
       "\n",
       " 1) root 800 1073.00 CH ( 0.60625 0.39375 )  \n",
       "   2) LoyalCH < 0.5036 365  441.60 MM ( 0.29315 0.70685 )  \n",
       "     4) LoyalCH < 0.280875 177  140.50 MM ( 0.13559 0.86441 )  \n",
       "       8) LoyalCH < 0.0356415 59   10.14 MM ( 0.01695 0.98305 ) *\n",
       "       9) LoyalCH > 0.0356415 118  116.40 MM ( 0.19492 0.80508 ) *\n",
       "     5) LoyalCH > 0.280875 188  258.00 MM ( 0.44149 0.55851 )  \n",
       "      10) PriceDiff < 0.05 79   84.79 MM ( 0.22785 0.77215 )  \n",
       "        20) SpecialCH < 0.5 64   51.98 MM ( 0.14062 0.85938 ) *\n",
       "        21) SpecialCH > 0.5 15   20.19 CH ( 0.60000 0.40000 ) *\n",
       "      11) PriceDiff > 0.05 109  147.00 CH ( 0.59633 0.40367 ) *\n",
       "   3) LoyalCH > 0.5036 435  337.90 CH ( 0.86897 0.13103 )  \n",
       "     6) LoyalCH < 0.764572 174  201.00 CH ( 0.73563 0.26437 )  \n",
       "      12) ListPriceDiff < 0.235 72   99.81 MM ( 0.50000 0.50000 )  \n",
       "        24) PctDiscMM < 0.196197 55   73.14 CH ( 0.61818 0.38182 ) *\n",
       "        25) PctDiscMM > 0.196197 17   12.32 MM ( 0.11765 0.88235 ) *\n",
       "      13) ListPriceDiff > 0.235 102   65.43 CH ( 0.90196 0.09804 ) *\n",
       "     7) LoyalCH > 0.764572 261   91.20 CH ( 0.95785 0.04215 ) *"
      ]
     },
     "metadata": {},
     "output_type": "display_data"
    }
   ],
   "source": [
    "OJ.tree"
   ]
  },
  {
   "cell_type": "markdown",
   "id": "warming-request",
   "metadata": {},
   "source": [
    "Terminal node 21)\n",
    "\n",
    "Split criteria : SpacialCH > 0.5\n",
    "\n",
    "No. of observations : 15\n",
    "\n",
    "Error (deviance) : 20.19\n",
    "\n",
    "Decision : Classified as \"CH\"\n",
    "\n",
    "Accuracy of classification : 60%"
   ]
  },
  {
   "cell_type": "markdown",
   "id": "median-collar",
   "metadata": {},
   "source": [
    "(d) Create a plot of the tree, and interpret the results."
   ]
  },
  {
   "cell_type": "code",
   "execution_count": 41,
   "id": "weekly-discussion",
   "metadata": {},
   "outputs": [
    {
     "data": {
      "image/png": "[encoded data removed]",
      "text/plain": [
       "plot without title"
      ]
     },
     "metadata": {},
     "output_type": "display_data"
    }
   ],
   "source": [
    "plot(OJ.tree)\n",
    "text(OJ.tree,pretty=TRUE)"
   ]
  },
  {
   "cell_type": "markdown",
   "id": "proved-chase",
   "metadata": {},
   "source": [
    "(e) Predict the response on the test data, and produce a confusion matrix comparing the test labels to the predicted test labels. What is the test error rate?"
   ]
  },
  {
   "cell_type": "code",
   "execution_count": 42,
   "id": "consolidated-disclaimer",
   "metadata": {},
   "outputs": [
    {
     "data": {
      "text/plain": [
       "         \n",
       "tree.pred  CH  MM\n",
       "       CH 160  38\n",
       "       MM   8  64"
      ]
     },
     "metadata": {},
     "output_type": "display_data"
    }
   ],
   "source": [
    "tree.pred = predict(OJ.tree, newdata = OJ.test, type = \"class\")\n",
    "table(tree.pred,OJ.test$Purchase)"
   ]
  },
  {
   "cell_type": "code",
   "execution_count": 43,
   "id": "dependent-butler",
   "metadata": {},
   "outputs": [
    {
     "name": "stdout",
     "output_type": "stream",
     "text": [
      "Accuracy :  0.8296296"
     ]
    }
   ],
   "source": [
    "cat(\"Accuracy : \", (160 + 64)/(160 + 38 + 8 + 64))"
   ]
  },
  {
   "cell_type": "markdown",
   "id": "indian-journalist",
   "metadata": {},
   "source": [
    "(f) Apply the cv.tree() function to the training set in order to determine the optimal tree size."
   ]
  },
  {
   "cell_type": "code",
   "execution_count": 44,
   "id": "electronic-casino",
   "metadata": {},
   "outputs": [
    {
     "data": {
      "text/plain": [
       "$size\n",
       "[1] 9 8 7 4 2 1\n",
       "\n",
       "$dev\n",
       "[1] 150 150 149 158 172 315\n",
       "\n",
       "$k\n",
       "[1]       -Inf   0.000000   3.000000   4.333333  10.500000 151.000000\n",
       "\n",
       "$method\n",
       "[1] \"misclass\"\n",
       "\n",
       "attr(,\"class\")\n",
       "[1] \"prune\"         \"tree.sequence\""
      ]
     },
     "metadata": {},
     "output_type": "display_data"
    }
   ],
   "source": [
    "cv.OJ = cv.tree(OJ.tree, FUN = prune.misclass)\n",
    "cv.OJ"
   ]
  },
  {
   "cell_type": "markdown",
   "id": "strong-victorian",
   "metadata": {},
   "source": [
    "(g) Produce a plot with tree size on the x-axis and cross-validated classification error rate on the y-axis."
   ]
  },
  {
   "cell_type": "code",
   "execution_count": 45,
   "id": "ordered-parks",
   "metadata": {},
   "outputs": [
    {
     "data": {
      "image/png": "[encoded data removed]",
      "text/plain": [
       "plot without title"
      ]
     },
     "metadata": {},
     "output_type": "display_data"
    }
   ],
   "source": [
    "plot(cv.OJ$size, cv.OJ$dev, type='b', xlab = \"Tree size\", ylab = \"Deviance\")"
   ]
  },
  {
   "cell_type": "markdown",
   "id": "sorted-tension",
   "metadata": {},
   "source": [
    "(h) Which tree size corresponds to the lowest cross-validated classification error rate?\n",
    "\n",
    "A tree size of 7 gives the smallest error rate\n",
    "\n",
    "(i) Produce a pruned tree corresponding to the optimal tree size obtained using cross-validation. If cross-validation does not lead to selection of a pruned tree, then create a pruned tree with five terminal nodes."
   ]
  },
  {
   "cell_type": "code",
   "execution_count": 46,
   "id": "surprising-palestine",
   "metadata": {},
   "outputs": [
    {
     "data": {
      "image/png": "[encoded data removed]",
      "text/plain": [
       "plot without title"
      ]
     },
     "metadata": {},
     "output_type": "display_data"
    }
   ],
   "source": [
    "prune.OJ = prune.misclass(OJ.tree, best=5)\n",
    "plot(prune.OJ)\n",
    "text(prune.OJ,pretty=0)"
   ]
  },
  {
   "cell_type": "markdown",
   "id": "acoustic-unemployment",
   "metadata": {},
   "source": [
    "(j) Compare the training error rates between the pruned and unpruned trees. Which is higher?"
   ]
  },
  {
   "cell_type": "code",
   "execution_count": 52,
   "id": "continued-drama",
   "metadata": {},
   "outputs": [
    {
     "data": {
      "text/plain": [
       "         \n",
       "tree.pred  CH  MM\n",
       "       CH 441  86\n",
       "       MM  44 229"
      ]
     },
     "metadata": {},
     "output_type": "display_data"
    }
   ],
   "source": [
    "tree.pred = predict(prune.OJ, newdata = OJ.train, type = \"class\")\n",
    "table(tree.pred, OJ.train$Purchase)"
   ]
  },
  {
   "cell_type": "code",
   "execution_count": 53,
   "id": "broad-beatles",
   "metadata": {},
   "outputs": [
    {
     "name": "stdout",
     "output_type": "stream",
     "text": [
      "Accuracy :  0.8375"
     ]
    }
   ],
   "source": [
    "cat(\"Accuracy : \", (441 + 229)/(441 + 86 + 44 + 229))"
   ]
  },
  {
   "cell_type": "markdown",
   "id": "caring-wesley",
   "metadata": {},
   "source": [
    "(k) Compare the test error rates between the pruned and unpruned trees. Which is higher?"
   ]
  },
  {
   "cell_type": "code",
   "execution_count": 54,
   "id": "alleged-purchase",
   "metadata": {},
   "outputs": [
    {
     "data": {
      "text/plain": [
       "         \n",
       "tree.pred  CH  MM\n",
       "       CH 160  36\n",
       "       MM   8  66"
      ]
     },
     "metadata": {},
     "output_type": "display_data"
    }
   ],
   "source": [
    "tree.pred = predict(prune.OJ, newdata = OJ.test, type = \"class\")\n",
    "table(tree.pred, OJ.test$Purchase)"
   ]
  },
  {
   "cell_type": "code",
   "execution_count": 55,
   "id": "auburn-maldives",
   "metadata": {},
   "outputs": [
    {
     "name": "stdout",
     "output_type": "stream",
     "text": [
      "Accuracy :  0.837037"
     ]
    }
   ],
   "source": [
    "cat(\"Accuracy : \", (160 + 66)/(160 + 36 + 8 + 66))"
   ]
  },
  {
   "cell_type": "markdown",
   "id": "continuous-closing",
   "metadata": {},
   "source": [
    "### Exercise 10 Chapter 8 Page 334"
   ]
  },
  {
   "cell_type": "markdown",
   "id": "unlimited-canyon",
   "metadata": {},
   "source": [
    "We now use boosting to predict Salary in the Hitters dataset.\n",
    "\n",
    "(a) Remove the observations for whom the salary information is unknown, and then log-transform the salaries."
   ]
  },
  {
   "cell_type": "code",
   "execution_count": 86,
   "id": "juvenile-division",
   "metadata": {},
   "outputs": [
    {
     "name": "stderr",
     "output_type": "stream",
     "text": [
      "Loading required package: doMC\n",
      "Warning message in library(package, lib.loc = lib.loc, character.only = TRUE, logical.return = TRUE, :\n",
      "\"there is no package called 'doMC'\""
     ]
    },
    {
     "data": {
      "text/html": [
       "<dl class=dl-horizontal>\n",
       "\t<dt>ISLR</dt>\n",
       "\t\t<dd>TRUE</dd>\n",
       "\t<dt>tidyverse</dt>\n",
       "\t\t<dd>TRUE</dd>\n",
       "\t<dt>ggthemes</dt>\n",
       "\t\t<dd>TRUE</dd>\n",
       "\t<dt>caret</dt>\n",
       "\t\t<dd>TRUE</dd>\n",
       "\t<dt>doMC</dt>\n",
       "\t\t<dd>FALSE</dd>\n",
       "\t<dt>gbm</dt>\n",
       "\t\t<dd>TRUE</dd>\n",
       "\t<dt>knitr</dt>\n",
       "\t\t<dd>TRUE</dd>\n",
       "</dl>\n"
      ],
      "text/latex": [
       "\\begin{description*}\n",
       "\\item[ISLR] TRUE\n",
       "\\item[tidyverse] TRUE\n",
       "\\item[ggthemes] TRUE\n",
       "\\item[caret] TRUE\n",
       "\\item[doMC] FALSE\n",
       "\\item[gbm] TRUE\n",
       "\\item[knitr] TRUE\n",
       "\\end{description*}\n"
      ],
      "text/markdown": [
       "ISLR\n",
       ":   TRUEtidyverse\n",
       ":   TRUEggthemes\n",
       ":   TRUEcaret\n",
       ":   TRUEdoMC\n",
       ":   FALSEgbm\n",
       ":   TRUEknitr\n",
       ":   TRUE\n",
       "\n"
      ],
      "text/plain": [
       "     ISLR tidyverse  ggthemes     caret      doMC       gbm     knitr \n",
       "     TRUE      TRUE      TRUE      TRUE     FALSE      TRUE      TRUE "
      ]
     },
     "metadata": {},
     "output_type": "display_data"
    }
   ],
   "source": [
    "packages <- c('ISLR', 'tidyverse', 'ggthemes', 'caret', 'doMC', 'gbm', 'knitr')\n",
    "sapply(packages, require, character.only = TRUE)\n",
    "data(\"Hitters\")\n",
    "\n",
    "Hitters %>%\n",
    "    filter(!is.na(Salary)) %>%\n",
    "    mutate(logSalary = log(Salary)) %>%\n",
    "    select(-Salary) -> Hitters"
   ]
  },
  {
   "cell_type": "markdown",
   "id": "smart-outreach",
   "metadata": {},
   "source": [
    "(b) Create a training set consisting of the first 200 observations, and a test set consisting of the remaining observations."
   ]
  },
  {
   "cell_type": "code",
   "execution_count": 87,
   "id": "individual-cuisine",
   "metadata": {},
   "outputs": [],
   "source": [
    "training <- Hitters[1:200,]\n",
    "testing <- Hitters[-(1:200),]"
   ]
  },
  {
   "cell_type": "markdown",
   "id": "basic-jacksonville",
   "metadata": {},
   "source": [
    "(c) Perform boosting on the training set with 1,000 trees for a range of values of the shrinkage parameter λ. Produce a plot with different shrinkage values on the x-axis and the corresponding training set MSE on the y-axis."
   ]
  },
  {
   "cell_type": "code",
   "execution_count": 82,
   "id": "pleasant-determination",
   "metadata": {
    "scrolled": true
   },
   "outputs": [
    {
     "data": {
      "image/png": "[encoded data removed]",
      "text/plain": [
       "plot without title"
      ]
     },
     "metadata": {},
     "output_type": "display_data"
    }
   ],
   "source": [
    "train_loss <- c()\n",
    "test_loss <- c()\n",
    "gbm_models <- list()\n",
    "shrink_params <- seq(0.001, 0.1, length.out = 20)\n",
    "\n",
    "for (i in seq(shrink_params)) {\n",
    "    set.seed(1)\n",
    "    gbm_models[[i]] <- gbm(logSalary ~ ., \n",
    "                           data = training, \n",
    "                           distribution = 'gaussian',\n",
    "                           shrinkage = shrink_params[i], \n",
    "                           n.cores = 3, \n",
    "                           n.trees = 1000)\n",
    "    pred_train <- predict(gbm_models[[i]], training, n.trees = 1000)\n",
    "    pred_test <- predict(gbm_models[[i]], testing, n.trees = 1000)\n",
    "    \n",
    "    resid_train <- (training$logSalary - pred_train)^2\n",
    "    resid_test <- (testing$logSalary - pred_test)^2\n",
    "    \n",
    "    rmse_train <- sqrt(mean(resid_train))\n",
    "    rmse_test <- sqrt(mean(resid_test))\n",
    "    \n",
    "    train_loss[i] <- rmse_train\n",
    "    test_loss[i] <- rmse_test\n",
    "}\n",
    "\n",
    "\n",
    "data_frame(train = train_loss,\n",
    "           test = test_loss) %>%\n",
    "    mutate(id = row_number(), shrinkage = shrink_params[id]) %>%\n",
    "    gather(value_type, value, train, test) %>%\n",
    "    ggplot(aes(shrinkage, value, col = value_type)) + \n",
    "    geom_point() + labs(x = 'Shrinkage', y = 'Error', \n",
    "                        title = 'Learning Curve for GBM Model') +\n",
    "    geom_line(alpha = 0.5) +\n",
    "    geom_vline(xintercept = shrink_params[which.min(test_loss)], \n",
    "               col = 'grey50', lty = 2) +\n",
    "    geom_hline(yintercept = min(test_loss), col = 'grey50', lty = 2) +\n",
    "    scale_color_manual(name = 'Error Type', \n",
    "                       labels = c('Test', 'Train'),\n",
    "                       values = c('#56B4E9', '#E69F00')) +\n",
    "    scale_x_continuous(breaks = c(round(shrink_params[which.min(test_loss)], 2), \n",
    "                                  seq(0, 0.1, 0.025)[-4])) +\n",
    "    theme_tufte()"
   ]
  },
  {
   "cell_type": "markdown",
   "id": "afraid-major",
   "metadata": {},
   "source": [
    "(d) Produce a plot with different shrinkage values on the x-axis and the corresponding test set MSE on the y-axis."
   ]
  },
  {
   "cell_type": "code",
   "execution_count": 83,
   "id": "earlier-retention",
   "metadata": {
    "scrolled": true
   },
   "outputs": [
    {
     "data": {
      "image/png": "[encoded data removed]",
      "text/plain": [
       "plot without title"
      ]
     },
     "metadata": {},
     "output_type": "display_data"
    }
   ],
   "source": [
    "data_frame(train = train_loss,\n",
    "           test = test_loss) %>%\n",
    "    mutate(id = row_number(), shrinkage = shrink_params[id]) %>%\n",
    "    gather(value_type, value, train, test) %>%\n",
    "    ggplot(aes(shrinkage, value, col = value_type)) + \n",
    "    geom_point() + labs(x = 'Shrinkage', y = 'Error', \n",
    "                        title = 'Learning Curve for GBM Model') +\n",
    "    geom_line(alpha = 0.5) +\n",
    "    geom_vline(xintercept = shrink_params[which.min(test_loss)], \n",
    "               col = 'grey50', lty = 2) +\n",
    "    geom_hline(yintercept = min(test_loss), col = 'grey50', lty = 2) +\n",
    "    scale_color_manual(name = 'Error Type', \n",
    "                       labels = c('Test', 'Train'),\n",
    "                       values = c('#56B4E9', '#E69F00')) +\n",
    "    scale_x_continuous(breaks = c(round(shrink_params[which.min(test_loss)], 2), \n",
    "                                  seq(0, 0.1, 0.025)[-4])) +\n",
    "    theme_tufte()"
   ]
  },
  {
   "cell_type": "markdown",
   "id": "earned-atlanta",
   "metadata": {},
   "source": [
    "(e) Compare the test MSE of boosting to the test MSE that results from  applying  two  of  the  regression  approaches  seen  in Chapters 3 and 6."
   ]
  },
  {
   "cell_type": "code",
   "execution_count": 84,
   "id": "individual-andrews",
   "metadata": {
    "scrolled": true
   },
   "outputs": [
    {
     "name": "stderr",
     "output_type": "stream",
     "text": [
      "Warning message in nominalTrainWorkflow(x = x, y = y, wts = weights, info = trainInfo, :\n",
      "\"There were missing values in resampled performance measures.\""
     ]
    },
    {
     "data": {
      "text/html": [
       "<dl class=dl-horizontal>\n",
       "\t<dt>RMSE</dt>\n",
       "\t\t<dd>0.671088900253812</dd>\n",
       "\t<dt>Rsquared</dt>\n",
       "\t\t<dd>0.326248268111293</dd>\n",
       "\t<dt>MAE</dt>\n",
       "\t\t<dd>0.515952654107895</dd>\n",
       "</dl>\n"
      ],
      "text/latex": [
       "\\begin{description*}\n",
       "\\item[RMSE] 0.671088900253812\n",
       "\\item[Rsquared] 0.326248268111293\n",
       "\\item[MAE] 0.515952654107895\n",
       "\\end{description*}\n"
      ],
      "text/markdown": [
       "RMSE\n",
       ":   0.671088900253812Rsquared\n",
       ":   0.326248268111293MAE\n",
       ":   0.515952654107895\n",
       "\n"
      ],
      "text/plain": [
       "     RMSE  Rsquared       MAE \n",
       "0.6710889 0.3262483 0.5159527 "
      ]
     },
     "metadata": {},
     "output_type": "display_data"
    }
   ],
   "source": [
    "trControl <- trainControl(method = 'cv', number = 10)\n",
    "dummy_func <- dummyVars(logSalary ~ . , data = training)\n",
    "training_onehot <- predict(dummy_func, training)\n",
    "testing_onehot <- predict(dummy_func, testing)\n",
    "\n",
    "preObj <- preProcess(training_onehot, method = c('center', 'scale'))\n",
    "\n",
    "training_onehot <- predict(preObj, training_onehot)\n",
    "testing_onehot <- predict(preObj, testing_onehot)\n",
    "\n",
    "set.seed(1)\n",
    "glm_model <- train(x = training_onehot, y = training[,20],\n",
    "                   method = 'glmnet', \n",
    "                   trControl = trControl,\n",
    "                   tuneGrid = expand.grid(alpha = seq(0, 1, length.out = 8),\n",
    "                                          lambda = c(seq(0, 1, length.out = 4),\n",
    "                                                     seq(1, 10, length.out = 4))))\n",
    "\n",
    "\n",
    "postResample(predict(glm_model, testing_onehot), testing$logSalary)"
   ]
  },
  {
   "cell_type": "markdown",
   "id": "pregnant-execution",
   "metadata": {},
   "source": [
    "(f) Which variables appear to be the most important predictors in the boosted model?"
   ]
  },
  {
   "cell_type": "code",
   "execution_count": 85,
   "id": "directed-gambling",
   "metadata": {},
   "outputs": [
    {
     "data": {
      "image/png": "[encoded data removed]",
      "text/plain": [
       "plot without title"
      ]
     },
     "metadata": {},
     "output_type": "display_data"
    }
   ],
   "source": [
    "plot(glm_model)"
   ]
  },
  {
   "cell_type": "markdown",
   "id": "underlying-ethics",
   "metadata": {},
   "source": [
    "(g) Now apply bagging to the training set. What is the test set MSE for this approach?"
   ]
  },
  {
   "cell_type": "code",
   "execution_count": 88,
   "id": "sudden-reach",
   "metadata": {},
   "outputs": [
    {
     "data": {
      "text/html": [
       "<dl class=dl-horizontal>\n",
       "\t<dt>RMSE</dt>\n",
       "\t\t<dd>0.544148783100864</dd>\n",
       "\t<dt>Rsquared</dt>\n",
       "\t\t<dd>0.570258499373875</dd>\n",
       "\t<dt>MAE</dt>\n",
       "\t\t<dd>0.340594725389598</dd>\n",
       "</dl>\n"
      ],
      "text/latex": [
       "\\begin{description*}\n",
       "\\item[RMSE] 0.544148783100864\n",
       "\\item[Rsquared] 0.570258499373875\n",
       "\\item[MAE] 0.340594725389598\n",
       "\\end{description*}\n"
      ],
      "text/markdown": [
       "RMSE\n",
       ":   0.544148783100864Rsquared\n",
       ":   0.570258499373875MAE\n",
       ":   0.340594725389598\n",
       "\n"
      ],
      "text/plain": [
       "     RMSE  Rsquared       MAE \n",
       "0.5441488 0.5702585 0.3405947 "
      ]
     },
     "metadata": {},
     "output_type": "display_data"
    }
   ],
   "source": [
    "bag_model <- train(training_onehot, training[,20],\n",
    "                   method = 'treebag',\n",
    "                   trControl = trControl)\n",
    "\n",
    "postResample(predict(bag_model, testing_onehot), testing$logSalary)"
   ]
  }
 ],
 "metadata": {
  "kernelspec": {
   "display_name": "R",
   "language": "R",
   "name": "ir"
  },
  "language_info": {
   "codemirror_mode": "r",
   "file_extension": ".r",
   "mimetype": "text/x-r-source",
   "name": "R",
   "pygments_lexer": "r",
   "version": "3.6.1"
  }
 },
 "nbformat": 4,
 "nbformat_minor": 5
}
