{
 "cells": [
  {
   "cell_type": "markdown",
   "metadata": {},
   "source": [
    "![ieseg logo](./img/ieseg.png)\n",
    "\n",
    "#### MBD 2020-2021\n",
    "# Statistical & Machine Learning Approaches for Marketing\n",
    "\n",
    "## Homework Section 2: Classification"
   ]
  },
  {
   "cell_type": "markdown",
   "metadata": {},
   "source": [
    "### 1. Import all required libraries and datasets"
   ]
  },
  {
   "cell_type": "code",
   "execution_count": 3,
   "metadata": {
    "collapsed": true
   },
   "outputs": [
    {
     "name": "stderr",
     "output_type": "stream",
     "text": [
      "Warning message:\n",
      "\"package 'datasets' is not available (for R version 3.6.1)\"Warning message:\n",
      "\"package 'datasets' is a base package, and should not be updated\"Warning message:\n",
      "\"package 'data.table' is in use and will not be installed\""
     ]
    },
    {
     "name": "stdout",
     "output_type": "stream",
     "text": [
      "package 'mlr3' successfully unpacked and MD5 sums checked\n",
      "package 'caret' successfully unpacked and MD5 sums checked\n",
      "package 'ggplot2' successfully unpacked and MD5 sums checked\n",
      "package 'plotrix' successfully unpacked and MD5 sums checked\n",
      "package 'rgl' successfully unpacked and MD5 sums checked\n",
      "package 'ISLR' successfully unpacked and MD5 sums checked\n",
      "package 'MASS' successfully unpacked and MD5 sums checked\n"
     ]
    },
    {
     "name": "stderr",
     "output_type": "stream",
     "text": [
      "Warning message:\n",
      "\"cannot remove prior installation of package 'MASS'\"Warning message in file.copy(savedcopy, lib, recursive = TRUE):\n",
      "\"problem copying C:\\Users\\pbhurji\\.conda\\envs\\r-environment\\Lib\\R\\library\\00LOCK\\MASS\\libs\\x64\\MASS.dll to C:\\Users\\pbhurji\\.conda\\envs\\r-environment\\Lib\\R\\library\\MASS\\libs\\x64\\MASS.dll: Permission denied\"Warning message:\n",
      "\"restored 'MASS'\""
     ]
    },
    {
     "name": "stdout",
     "output_type": "stream",
     "text": [
      "\n",
      "The downloaded binary packages are in\n",
      "\tC:\\Users\\pbhurji\\AppData\\Local\\Temp\\RtmpyKY3wT\\downloaded_packages\n"
     ]
    },
    {
     "name": "stderr",
     "output_type": "stream",
     "text": [
      "also installing the dependencies 'ParamHelpers', 'BBmisc', 'data.table', 'parallelMap', 'XML'\n",
      "\n",
      "Warning message:\n",
      "\"package 'data.table' is in use and will not be installed\""
     ]
    },
    {
     "name": "stdout",
     "output_type": "stream",
     "text": [
      "package 'ParamHelpers' successfully unpacked and MD5 sums checked\n",
      "package 'BBmisc' successfully unpacked and MD5 sums checked\n",
      "package 'parallelMap' successfully unpacked and MD5 sums checked\n",
      "package 'XML' successfully unpacked and MD5 sums checked\n",
      "package 'mlr' successfully unpacked and MD5 sums checked\n",
      "package 'pROC' successfully unpacked and MD5 sums checked\n",
      "package 'e1071' successfully unpacked and MD5 sums checked\n",
      "package 'gridExtra' successfully unpacked and MD5 sums checked\n",
      "package 'kknn' successfully unpacked and MD5 sums checked\n",
      "package 'nnet' successfully unpacked and MD5 sums checked\n",
      "package 'dummies' successfully unpacked and MD5 sums checked\n",
      "\n",
      "The downloaded binary packages are in\n",
      "\tC:\\Users\\pbhurji\\AppData\\Local\\Temp\\RtmpyKY3wT\\downloaded_packages\n"
     ]
    }
   ],
   "source": [
    "# Install missing packages\n",
    "install.packages(c(\"data.table\", \"mlr3\", \"caret\", \"ggplot2\", \"plotrix\", \"rgl\", \"ISLR\", \"MASS\", \"datasets\"))\n",
    "install.packages(c(\"mlr\", \"pROC\", \"e1071\", \"gridExtra\", \"kknn\", \"nnet\", \"dummies\"))"
   ]
  },
  {
   "cell_type": "code",
   "execution_count": 1,
   "metadata": {},
   "outputs": [
    {
     "ename": "ERROR",
     "evalue": "Error in library(mlr): there is no package called 'mlr'\n",
     "output_type": "error",
     "traceback": [
      "Error in library(mlr): there is no package called 'mlr'\nTraceback:\n",
      "1. library(mlr)"
     ]
    }
   ],
   "source": [
    "# Set environment params\n",
    "Sys.setenv(LANG='en')  # English\n",
    "\n",
    "# Import libraries\n",
    "library(data.table)  # Data manipulate\n",
    "library(mlr)         # ML toolkit\n",
    "library(caret)       # ML toolkit\n",
    "library(ggplot2)     # Visualization\n",
    "library(pROC)        # AUC, ROC\n",
    "library(e1071)       # Evaluation\n",
    "library(gridExtra)   # Visualization\n",
    "library(kknn)        # kNN model\n",
    "library(nnet)        # One-vs-All Logistic Regression\n",
    "library(dummies)     # Data processing\n",
    "\n",
    "# Import data\n",
    "library(ISLR)        # Data from the course book\n",
    "library(MASS)        # Boston housing dataset\n",
    "library(datasets)    # US crime dataset\n",
    "\n",
    "# Resize plot\n",
    "library(repr)        # String and binary representations\n",
    "#options(repr.plot.width=4, repr.plot.height=4)\n",
    "\n",
    "R.version.string"
   ]
  },
  {
   "cell_type": "markdown",
   "metadata": {},
   "source": [
    "## Homework\n",
    "- Exercise 6 (p.170, Chap.4), 8 (p.170, Chap.4), 9 (p.170, Chap.4), 10 (p.171, Chap.4) and 11 (p.171, Chap.4)."
   ]
  },
  {
   "cell_type": "markdown",
   "metadata": {},
   "source": [
    "### Exercise 6 (p.170, Chap.4)"
   ]
  },
  {
   "cell_type": "markdown",
   "metadata": {},
   "source": [
    "QUESTION - Suppose we collect data for a group of students in a statistics class\n",
    "with variables X1 =hours studied, X2 =undergrad GPA, and Y =\n",
    "receive an A. We fit a logistic regression and produce estimated\n",
    "coefficient, ˆ β0 = −6, ˆβ1 = 0.05, ˆβ2 = 1. <br/>\n",
    "(a) Estimate the probability that a student who studies for 40 h and\n",
    "has an undergrad GPA of 3.5 gets an A in the class. <br/>\n",
    "(b) How many hours would the student in part (a) need to study to\n",
    "have a 50% chance of getting an A in the class?"
   ]
  },
  {
   "cell_type": "markdown",
   "metadata": {},
   "source": [
    "ANSWER - <br/>\n",
    "\n",
    "According to Given data - <br/> p(X)=exp(β0+β1X1+β2X2)1+exp(β0+β1X1+β2X2) <br/> X1=hoursstudied, X2=undergradGPA <br/>  β0=−6,β1=0.05,β2=1 <br/>\n",
    "\n",
    "\n",
    "(a) <br/>\n",
    "X=[40hours,3.5GPA]<br/>\n",
    "p(X)=exp(−6+0.05X1+X2)1+exp(−6+0.05X1+X2)<br/>\n",
    "=exp(−6+0.0540+3.5)1+exp(−6+0.0540+3.5)<br/>\n",
    "=exp(−0.5)1+exp(−0.5)<br/>\n",
    "=37.75%"
   ]
  },
  {
   "cell_type": "markdown",
   "metadata": {},
   "source": [
    "(b) <br/>\n",
    "X=[X1hours,3.5GPA]<br/> p(X)=exp(−6+0.05X1+X2)1+exp(−6+0.05X1+X2)<br/>\n",
    "0.50=exp(−6+0.05X1+3.5)1+exp(−6+0.05X1+3.5)<br/> \n",
    "0.50(1+exp(−2.5+0.05X1))=exp(−2.5+0.05X1)<br/>\n",
    "0.50+0.50exp(−2.5+0.05X1))=exp(−2.5+0.05X1)<br/>\n",
    "0.50=0.50exp(−2.5+0.05X1)<br/>\n",
    "log(1)=−2.5+0.05X1<br/> \n",
    "X1=2.5/0.05=50hours"
   ]
  },
  {
   "cell_type": "markdown",
   "metadata": {},
   "source": [
    "### Exercise 8 (p.170, Chap.4)"
   ]
  },
  {
   "cell_type": "markdown",
   "metadata": {},
   "source": [
    "QUESTION - Suppose that we take a data set, divide it into equally-sized training\n",
    "and test sets, and then try out two different classification procedures.\n",
    "First we use logistic regression and get an error rate of 20% on the\n",
    "training data and 30% on the test data. Next we use 1-nearest neighbors\n",
    "(i.e. K = 1) and get an average error rate (averaged over both\n",
    "test and training data sets) of 18%. Based on these results, which\n",
    "method should we prefer to use for classification of new observations?\n",
    "Why?"
   ]
  },
  {
   "cell_type": "markdown",
   "metadata": {},
   "source": [
    "ANSWER - The KNN with K=1 model would fit the training set exactly and so the training error would be zero. This means the test error has to be 36% in order for the average of the errors to be 18%. As model selection is based on performance on the test set, we will choose logistic regression to classify new observations."
   ]
  },
  {
   "cell_type": "markdown",
   "metadata": {},
   "source": [
    "### Exercise 9 (p.170, Chap.4)"
   ]
  },
  {
   "cell_type": "markdown",
   "metadata": {},
   "source": [
    "QUESTION - This problem has to do with odds. <br/> \n",
    "(a) On average, what fraction of people with an odds of 0.37 of defaulting on their credit card payment will in fact default? <br/> \n",
    "(b) Suppose that an individual has a 16% chance of defaulting on her credit card payment. What are the odds that she will default? <br/> "
   ]
  },
  {
   "cell_type": "markdown",
   "metadata": {},
   "source": [
    "ANSWER - <br/>\n",
    "(a) <br/>\n",
    "p(X)1−p(X)=0.37 <br/> \n",
    "p(X)=0.37(1−p(X))<br/> \n",
    "1.37p(X)=0.37<br/> \n",
    "p(X)=0.371.37=27%"
   ]
  },
  {
   "cell_type": "markdown",
   "metadata": {},
   "source": [
    "(b) <br/>\n",
    "odds=p(X)1−p(X)=.16/.84=0.19"
   ]
  },
  {
   "cell_type": "markdown",
   "metadata": {},
   "source": [
    "### Exercise 10 (p.171, Chap.4)"
   ]
  },
  {
   "cell_type": "markdown",
   "metadata": {},
   "source": [
    "ANSWER 10(a) - "
   ]
  },
  {
   "cell_type": "code",
   "execution_count": 12,
   "metadata": {},
   "outputs": [
    {
     "name": "stderr",
     "output_type": "stream",
     "text": [
      "Warning message:\n",
      "\"package 'ISLR' was built under R version 3.6.3\""
     ]
    },
    {
     "data": {
      "text/plain": [
       "      Year           Lag1               Lag2               Lag3         \n",
       " Min.   :1990   Min.   :-18.1950   Min.   :-18.1950   Min.   :-18.1950  \n",
       " 1st Qu.:1995   1st Qu.: -1.1540   1st Qu.: -1.1540   1st Qu.: -1.1580  \n",
       " Median :2000   Median :  0.2410   Median :  0.2410   Median :  0.2410  \n",
       " Mean   :2000   Mean   :  0.1506   Mean   :  0.1511   Mean   :  0.1472  \n",
       " 3rd Qu.:2005   3rd Qu.:  1.4050   3rd Qu.:  1.4090   3rd Qu.:  1.4090  \n",
       " Max.   :2010   Max.   : 12.0260   Max.   : 12.0260   Max.   : 12.0260  \n",
       "      Lag4               Lag5              Volume            Today         \n",
       " Min.   :-18.1950   Min.   :-18.1950   Min.   :0.08747   Min.   :-18.1950  \n",
       " 1st Qu.: -1.1580   1st Qu.: -1.1660   1st Qu.:0.33202   1st Qu.: -1.1540  \n",
       " Median :  0.2380   Median :  0.2340   Median :1.00268   Median :  0.2410  \n",
       " Mean   :  0.1458   Mean   :  0.1399   Mean   :1.57462   Mean   :  0.1499  \n",
       " 3rd Qu.:  1.4090   3rd Qu.:  1.4050   3rd Qu.:2.05373   3rd Qu.:  1.4050  \n",
       " Max.   : 12.0260   Max.   : 12.0260   Max.   :9.32821   Max.   : 12.0260  \n",
       " Direction \n",
       " Down:484  \n",
       " Up  :605  \n",
       "           \n",
       "           \n",
       "           \n",
       "           "
      ]
     },
     "metadata": {},
     "output_type": "display_data"
    }
   ],
   "source": [
    "library(ISLR)\n",
    "summary(Weekly)"
   ]
  },
  {
   "cell_type": "code",
   "execution_count": 15,
   "metadata": {},
   "outputs": [
    {
     "data": {
      "image/png": "[encoded data removed]",
      "text/plain": [
       "plot without title"
      ]
     },
     "metadata": {},
     "output_type": "display_data"
    }
   ],
   "source": [
    "# Scatterplot Matrix\n",
    "pairs(Weekly[,1:8])"
   ]
  },
  {
   "cell_type": "code",
   "execution_count": 16,
   "metadata": {},
   "outputs": [
    {
     "data": {
      "text/html": [
       "<table>\n",
       "<thead><tr><th></th><th scope=col>Year</th><th scope=col>Lag1</th><th scope=col>Lag2</th><th scope=col>Lag3</th><th scope=col>Lag4</th><th scope=col>Lag5</th><th scope=col>Volume</th><th scope=col>Today</th></tr></thead>\n",
       "<tbody>\n",
       "\t<tr><th scope=row>Year</th><td> 1.00000000 </td><td>-0.032289274</td><td>-0.03339001 </td><td>-0.03000649 </td><td>-0.031127923</td><td>-0.030519101</td><td> 0.84194162 </td><td>-0.032459894</td></tr>\n",
       "\t<tr><th scope=row>Lag1</th><td>-0.03228927 </td><td> 1.000000000</td><td>-0.07485305 </td><td> 0.05863568 </td><td>-0.071273876</td><td>-0.008183096</td><td>-0.06495131 </td><td>-0.075031842</td></tr>\n",
       "\t<tr><th scope=row>Lag2</th><td>-0.03339001 </td><td>-0.074853051</td><td> 1.00000000 </td><td>-0.07572091 </td><td> 0.058381535</td><td>-0.072499482</td><td>-0.08551314 </td><td> 0.059166717</td></tr>\n",
       "\t<tr><th scope=row>Lag3</th><td>-0.03000649 </td><td> 0.058635682</td><td>-0.07572091 </td><td> 1.00000000 </td><td>-0.075395865</td><td> 0.060657175</td><td>-0.06928771 </td><td>-0.071243639</td></tr>\n",
       "\t<tr><th scope=row>Lag4</th><td>-0.03112792 </td><td>-0.071273876</td><td> 0.05838153 </td><td>-0.07539587 </td><td> 1.000000000</td><td>-0.075675027</td><td>-0.06107462 </td><td>-0.007825873</td></tr>\n",
       "\t<tr><th scope=row>Lag5</th><td>-0.03051910 </td><td>-0.008183096</td><td>-0.07249948 </td><td> 0.06065717 </td><td>-0.075675027</td><td> 1.000000000</td><td>-0.05851741 </td><td> 0.011012698</td></tr>\n",
       "\t<tr><th scope=row>Volume</th><td> 0.84194162 </td><td>-0.064951313</td><td>-0.08551314 </td><td>-0.06928771 </td><td>-0.061074617</td><td>-0.058517414</td><td> 1.00000000 </td><td>-0.033077783</td></tr>\n",
       "\t<tr><th scope=row>Today</th><td>-0.03245989 </td><td>-0.075031842</td><td> 0.05916672 </td><td>-0.07124364 </td><td>-0.007825873</td><td> 0.011012698</td><td>-0.03307778 </td><td> 1.000000000</td></tr>\n",
       "</tbody>\n",
       "</table>\n"
      ],
      "text/latex": [
       "\\begin{tabular}{r|llllllll}\n",
       "  & Year & Lag1 & Lag2 & Lag3 & Lag4 & Lag5 & Volume & Today\\\\\n",
       "\\hline\n",
       "\tYear &  1.00000000  & -0.032289274 & -0.03339001  & -0.03000649  & -0.031127923 & -0.030519101 &  0.84194162  & -0.032459894\\\\\n",
       "\tLag1 & -0.03228927  &  1.000000000 & -0.07485305  &  0.05863568  & -0.071273876 & -0.008183096 & -0.06495131  & -0.075031842\\\\\n",
       "\tLag2 & -0.03339001  & -0.074853051 &  1.00000000  & -0.07572091  &  0.058381535 & -0.072499482 & -0.08551314  &  0.059166717\\\\\n",
       "\tLag3 & -0.03000649  &  0.058635682 & -0.07572091  &  1.00000000  & -0.075395865 &  0.060657175 & -0.06928771  & -0.071243639\\\\\n",
       "\tLag4 & -0.03112792  & -0.071273876 &  0.05838153  & -0.07539587  &  1.000000000 & -0.075675027 & -0.06107462  & -0.007825873\\\\\n",
       "\tLag5 & -0.03051910  & -0.008183096 & -0.07249948  &  0.06065717  & -0.075675027 &  1.000000000 & -0.05851741  &  0.011012698\\\\\n",
       "\tVolume &  0.84194162  & -0.064951313 & -0.08551314  & -0.06928771  & -0.061074617 & -0.058517414 &  1.00000000  & -0.033077783\\\\\n",
       "\tToday & -0.03245989  & -0.075031842 &  0.05916672  & -0.07124364  & -0.007825873 &  0.011012698 & -0.03307778  &  1.000000000\\\\\n",
       "\\end{tabular}\n"
      ],
      "text/markdown": [
       "\n",
       "| <!--/--> | Year | Lag1 | Lag2 | Lag3 | Lag4 | Lag5 | Volume | Today |\n",
       "|---|---|---|---|---|---|---|---|---|\n",
       "| Year |  1.00000000  | -0.032289274 | -0.03339001  | -0.03000649  | -0.031127923 | -0.030519101 |  0.84194162  | -0.032459894 |\n",
       "| Lag1 | -0.03228927  |  1.000000000 | -0.07485305  |  0.05863568  | -0.071273876 | -0.008183096 | -0.06495131  | -0.075031842 |\n",
       "| Lag2 | -0.03339001  | -0.074853051 |  1.00000000  | -0.07572091  |  0.058381535 | -0.072499482 | -0.08551314  |  0.059166717 |\n",
       "| Lag3 | -0.03000649  |  0.058635682 | -0.07572091  |  1.00000000  | -0.075395865 |  0.060657175 | -0.06928771  | -0.071243639 |\n",
       "| Lag4 | -0.03112792  | -0.071273876 |  0.05838153  | -0.07539587  |  1.000000000 | -0.075675027 | -0.06107462  | -0.007825873 |\n",
       "| Lag5 | -0.03051910  | -0.008183096 | -0.07249948  |  0.06065717  | -0.075675027 |  1.000000000 | -0.05851741  |  0.011012698 |\n",
       "| Volume |  0.84194162  | -0.064951313 | -0.08551314  | -0.06928771  | -0.061074617 | -0.058517414 |  1.00000000  | -0.033077783 |\n",
       "| Today | -0.03245989  | -0.075031842 |  0.05916672  | -0.07124364  | -0.007825873 |  0.011012698 | -0.03307778  |  1.000000000 |\n",
       "\n"
      ],
      "text/plain": [
       "       Year        Lag1         Lag2        Lag3        Lag4        \n",
       "Year    1.00000000 -0.032289274 -0.03339001 -0.03000649 -0.031127923\n",
       "Lag1   -0.03228927  1.000000000 -0.07485305  0.05863568 -0.071273876\n",
       "Lag2   -0.03339001 -0.074853051  1.00000000 -0.07572091  0.058381535\n",
       "Lag3   -0.03000649  0.058635682 -0.07572091  1.00000000 -0.075395865\n",
       "Lag4   -0.03112792 -0.071273876  0.05838153 -0.07539587  1.000000000\n",
       "Lag5   -0.03051910 -0.008183096 -0.07249948  0.06065717 -0.075675027\n",
       "Volume  0.84194162 -0.064951313 -0.08551314 -0.06928771 -0.061074617\n",
       "Today  -0.03245989 -0.075031842  0.05916672 -0.07124364 -0.007825873\n",
       "       Lag5         Volume      Today       \n",
       "Year   -0.030519101  0.84194162 -0.032459894\n",
       "Lag1   -0.008183096 -0.06495131 -0.075031842\n",
       "Lag2   -0.072499482 -0.08551314  0.059166717\n",
       "Lag3    0.060657175 -0.06928771 -0.071243639\n",
       "Lag4   -0.075675027 -0.06107462 -0.007825873\n",
       "Lag5    1.000000000 -0.05851741  0.011012698\n",
       "Volume -0.058517414  1.00000000 -0.033077783\n",
       "Today   0.011012698 -0.03307778  1.000000000"
      ]
     },
     "metadata": {},
     "output_type": "display_data"
    }
   ],
   "source": [
    "# Correlation matrix.\n",
    "cor(Weekly[,1:8])"
   ]
  },
  {
   "cell_type": "markdown",
   "metadata": {},
   "source": [
    "As can be seen on the scatterplot and correlation matrices, there appears to be a positive correlation between 'Year' and 'Volume' only. From the summary statistics, we can observe that the Lag variables are very similar to each other and 'Today'. There doesn't appear to to be any patterns except for an increase in volume from 1989 to 2001."
   ]
  },
  {
   "cell_type": "markdown",
   "metadata": {},
   "source": [
    "ANSWER 10(b) - "
   ]
  },
  {
   "cell_type": "code",
   "execution_count": 25,
   "metadata": {},
   "outputs": [
    {
     "data": {
      "text/plain": [
       "\n",
       "Call:\n",
       "glm(formula = Direction ~ Lag1 + Lag2 + Lag3 + Lag4 + Lag5 + \n",
       "    Volume, family = binomial, data = Weekly)\n",
       "\n",
       "Deviance Residuals: \n",
       "    Min       1Q   Median       3Q      Max  \n",
       "-1.6949  -1.2565   0.9913   1.0849   1.4579  \n",
       "\n",
       "Coefficients:\n",
       "            Estimate Std. Error z value Pr(>|z|)   \n",
       "(Intercept)  0.26686    0.08593   3.106   0.0019 **\n",
       "Lag1        -0.04127    0.02641  -1.563   0.1181   \n",
       "Lag2         0.05844    0.02686   2.175   0.0296 * \n",
       "Lag3        -0.01606    0.02666  -0.602   0.5469   \n",
       "Lag4        -0.02779    0.02646  -1.050   0.2937   \n",
       "Lag5        -0.01447    0.02638  -0.549   0.5833   \n",
       "Volume      -0.02274    0.03690  -0.616   0.5377   \n",
       "---\n",
       "Signif. codes:  0 '***' 0.001 '**' 0.01 '*' 0.05 '.' 0.1 ' ' 1\n",
       "\n",
       "(Dispersion parameter for binomial family taken to be 1)\n",
       "\n",
       "    Null deviance: 1496.2  on 1088  degrees of freedom\n",
       "Residual deviance: 1486.4  on 1082  degrees of freedom\n",
       "AIC: 1500.4\n",
       "\n",
       "Number of Fisher Scoring iterations: 4\n"
      ]
     },
     "metadata": {},
     "output_type": "display_data"
    }
   ],
   "source": [
    "logistic_fit = glm(Direction ~ Lag1+Lag2+Lag3+Lag4+Lag5+Volume, data=Weekly, family=binomial)\n",
    "summary(logistic_fit)"
   ]
  },
  {
   "cell_type": "markdown",
   "metadata": {},
   "source": [
    "Lag2 is statistically significant."
   ]
  },
  {
   "cell_type": "markdown",
   "metadata": {},
   "source": [
    "ANSWER 10(c) - "
   ]
  },
  {
   "cell_type": "code",
   "execution_count": 26,
   "metadata": {},
   "outputs": [
    {
     "name": "stderr",
     "output_type": "stream",
     "text": [
      "The following objects are masked from Weekly (pos = 3):\n",
      "\n",
      "    Direction, Lag1, Lag2, Lag3, Lag4, Lag5, Today, Volume, Year\n",
      "\n"
     ]
    },
    {
     "data": {
      "text/plain": [
       "              Direction\n",
       "logistic_preds Down  Up\n",
       "          Down   54  48\n",
       "          Up    430 557"
      ]
     },
     "metadata": {},
     "output_type": "display_data"
    }
   ],
   "source": [
    "logistic_probs = predict(logistic_fit, type=\"response\")\n",
    "logistic_preds = rep(\"Down\", 1089) # Vector of 1089 \"Down\" elements.\n",
    "logistic_preds[logistic_probs>0.5] = \"Up\" # Change \"Down\" to up when probability > 0.5.\n",
    "\n",
    "# Confusion matrix\n",
    "attach(Weekly)\n",
    "table(logistic_preds,Direction)"
   ]
  },
  {
   "cell_type": "markdown",
   "metadata": {},
   "source": [
    "Overfall fraction of correct predictions is $\\frac{54+557}{54+48+430+557} \\approx0.56$ <br/>\n",
    "\n",
    "The error rate of falsely predict down days to up is $\\frac{48}{48+54} \\approx0.47$ <br/>\n",
    "\n",
    "The error rate of falsely predict up days to up is $\\frac{430}{430+557} \\approx0.44$ <br/>"
   ]
  },
  {
   "cell_type": "markdown",
   "metadata": {},
   "source": [
    "ANSWER 10(d) - "
   ]
  },
  {
   "cell_type": "code",
   "execution_count": 27,
   "metadata": {},
   "outputs": [
    {
     "data": {
      "text/plain": [
       "               Test_Direction\n",
       "logistic_preds2 Down Up\n",
       "           Down    9  5\n",
       "           Up     34 56"
      ]
     },
     "metadata": {},
     "output_type": "display_data"
    }
   ],
   "source": [
    "# Training observations from 1990 to 2008.\n",
    "train = (Year<2009)\n",
    "\n",
    "# Test observations from 2009 to 2010.\n",
    "Test = Weekly[!train ,]\n",
    "Test_Direction= Direction[!train]\n",
    "\n",
    "# Logistic regression on training set.\n",
    "logistic_fit2 = glm(Direction ~ Lag2, data=Weekly, family=binomial, subset=train)\n",
    "\n",
    "# Predictions on the test set.\n",
    "logistic_probs2 = predict(logistic_fit2,Test, type=\"response\")\n",
    "logistic_preds2 = rep(\"Down\", 104) \n",
    "logistic_preds2[logistic_probs2>0.5] = \"Up\" \n",
    "\n",
    "# Confusion matrix.\n",
    "table(logistic_preds2,Test_Direction)"
   ]
  },
  {
   "cell_type": "markdown",
   "metadata": {},
   "source": [
    "The model makes correct predictions on 65/104= 62.5% of the days."
   ]
  },
  {
   "cell_type": "markdown",
   "metadata": {},
   "source": [
    "ANSWER 10(e) - "
   ]
  },
  {
   "cell_type": "code",
   "execution_count": 33,
   "metadata": {},
   "outputs": [
    {
     "name": "stderr",
     "output_type": "stream",
     "text": [
      "Warning message:\n",
      "\"package 'MASS' was built under R version 3.6.3\""
     ]
    },
    {
     "data": {
      "text/plain": [
       "         Test_Direction\n",
       "lda_class Down Up\n",
       "     Down    9  5\n",
       "     Up     34 56"
      ]
     },
     "metadata": {},
     "output_type": "display_data"
    }
   ],
   "source": [
    "# Using LDA.\n",
    "library(MASS)\n",
    "lda_fit = lda(Direction ~ Lag2, data=Weekly, subset=train)\n",
    "#lda_fit\n",
    "\n",
    "# Predictions on the test set.\n",
    "lda_pred = predict(lda_fit,Test)\n",
    "lda_class = lda_pred$class\n",
    "\n",
    "# Confusion matrix.\n",
    "table(lda_class,Test_Direction)"
   ]
  },
  {
   "cell_type": "markdown",
   "metadata": {},
   "source": [
    "Overall fraction of correct predictions for the held out data is $65/104\\approx0.625$"
   ]
  },
  {
   "cell_type": "markdown",
   "metadata": {},
   "source": [
    "ANSWER 10(f) - "
   ]
  },
  {
   "cell_type": "code",
   "execution_count": 34,
   "metadata": {},
   "outputs": [
    {
     "data": {
      "text/plain": [
       "         Test_Direction\n",
       "qda_class Down Up\n",
       "     Down    0  0\n",
       "     Up     43 61"
      ]
     },
     "metadata": {},
     "output_type": "display_data"
    }
   ],
   "source": [
    "# Using QDA.\n",
    "qda_fit = qda(Direction ~ Lag2, data=Weekly, subset=train)\n",
    "qda_pred = predict(qda_fit,Test)\n",
    "qda_class = qda_pred$class\n",
    "table(qda_class,Test_Direction)"
   ]
  },
  {
   "cell_type": "markdown",
   "metadata": {},
   "source": [
    "QDA model's TPR=1 and precision(correct predictions)=0.58, which is no better than guessing each day is \"Up\""
   ]
  },
  {
   "cell_type": "markdown",
   "metadata": {},
   "source": [
    "ANSWER 10(g) - "
   ]
  },
  {
   "cell_type": "code",
   "execution_count": 35,
   "metadata": {},
   "outputs": [
    {
     "data": {
      "text/plain": [
       "        Test_Direction\n",
       "knn_pred Down Up\n",
       "    Down   21 30\n",
       "    Up     22 31"
      ]
     },
     "metadata": {},
     "output_type": "display_data"
    }
   ],
   "source": [
    "# Using KNN\n",
    "library(class)\n",
    "set.seed(1)\n",
    "train_X = Weekly[train,3]\n",
    "test_X = Weekly[!train,3]\n",
    "train_direction = Direction[train]\n",
    "\n",
    "# Changing from vector to matrix by adding dimensions\n",
    "dim(train_X) = c(985,1)\n",
    "dim(test_X) = c(104,1)\n",
    "\n",
    "# Predictions for K=1\n",
    "knn_pred = knn(train_X, test_X, train_direction, k=1)\n",
    "table(knn_pred, Test_Direction)"
   ]
  },
  {
   "cell_type": "markdown",
   "metadata": {},
   "source": [
    "KNN with K=1 in correct in its predictions for 50% of the days."
   ]
  },
  {
   "cell_type": "markdown",
   "metadata": {},
   "source": [
    "ANSWER 10(h) - "
   ]
  },
  {
   "cell_type": "markdown",
   "metadata": {},
   "source": [
    "  - Logistic regression, LDA give the exact same confusion matrix. The TPR = 0.92, Precision = 0.62, TNR = 0.21 and NPV(Negative Predictive Value) = 0.64. \n",
    "  - For KNN with K=1, the TPR = 0.51, Precision = 0.58, TNR = 0.48 and FPV = 0.41.\n",
    "  - The logistic and LDA models provide the best results, particularly for predicting \"Up\" days. "
   ]
  },
  {
   "cell_type": "markdown",
   "metadata": {},
   "source": [
    "ANSWER 10(i) - "
   ]
  },
  {
   "cell_type": "code",
   "execution_count": 37,
   "metadata": {},
   "outputs": [
    {
     "data": {
      "text/plain": [
       "         Test_Direction\n",
       "knn_pred2 Down Up\n",
       "     Down   16 19\n",
       "     Up     27 42"
      ]
     },
     "metadata": {},
     "output_type": "display_data"
    }
   ],
   "source": [
    "# Using KNN and K=3\n",
    "knn_pred2 = knn(train_X, test_X, train_direction, k=3)\n",
    "table(knn_pred2, Test_Direction)"
   ]
  },
  {
   "cell_type": "code",
   "execution_count": 38,
   "metadata": {},
   "outputs": [
    {
     "data": {
      "text/plain": [
       "         Test_Direction\n",
       "knn_pred3 Down Up\n",
       "     Down   15 20\n",
       "     Up     28 41"
      ]
     },
     "metadata": {},
     "output_type": "display_data"
    }
   ],
   "source": [
    "# Using KNN and K=9\n",
    "knn_pred3 = knn(train_X, test_X, train_direction, k=6)\n",
    "table(knn_pred3, Test_Direction)"
   ]
  },
  {
   "cell_type": "markdown",
   "metadata": {},
   "source": [
    "Higher K values shown an improvement in the overall correct predictions (59/104) made by a KNN model when using Lag2 as the only predictor."
   ]
  },
  {
   "cell_type": "code",
   "execution_count": 39,
   "metadata": {},
   "outputs": [
    {
     "data": {
      "text/plain": [
       "          Test_Direction\n",
       "lda_class2 Down Up\n",
       "      Down    9 13\n",
       "      Up     34 48"
      ]
     },
     "metadata": {},
     "output_type": "display_data"
    }
   ],
   "source": [
    "# Using LDA with all Lag values\n",
    "lda_fit2 = lda(Direction ~ Lag1+Lag2+Lag3+Lag4+Lag5, data=Weekly, subset=train)\n",
    "\n",
    "# Predictions on the test set\n",
    "lda_pred2 = predict(lda_fit2,Test)\n",
    "lda_class2 = lda_pred2$class\n",
    "\n",
    "# Confusion matrix\n",
    "table(lda_class2,Test_Direction)"
   ]
  },
  {
   "cell_type": "markdown",
   "metadata": {},
   "source": [
    "No real improvement using LDA when using all Lag variables."
   ]
  },
  {
   "cell_type": "code",
   "execution_count": 40,
   "metadata": {},
   "outputs": [
    {
     "data": {
      "text/plain": [
       "               Test_Direction\n",
       "logistic_preds3 Down Up\n",
       "           Down    8  4\n",
       "           Up     35 57"
      ]
     },
     "metadata": {},
     "output_type": "display_data"
    }
   ],
   "source": [
    "# Using logistic with lag2 and lag2^2\n",
    "logistic_fit3 = glm(Direction ~ Lag2 + I(Lag2^2), data=Weekly, family=binomial, subset=train)\n",
    "\n",
    "# Predictions on the test set.\n",
    "logistic_probs3 = predict(logistic_fit3,Test, type=\"response\")\n",
    "logistic_preds3 = rep(\"Down\", 104) \n",
    "logistic_preds3[logistic_probs3>0.5] = \"Up\" \n",
    "\n",
    "# Confusion matrix.\n",
    "table(logistic_preds3,Test_Direction)"
   ]
  },
  {
   "cell_type": "markdown",
   "metadata": {},
   "source": [
    "From the above we can see that the results are similar to Lag2 only."
   ]
  },
  {
   "cell_type": "code",
   "execution_count": 41,
   "metadata": {},
   "outputs": [
    {
     "data": {
      "text/plain": [
       "               Test_Direction\n",
       "logistic_preds4 Down Up\n",
       "           Down    8  2\n",
       "           Up     35 59"
      ]
     },
     "metadata": {},
     "output_type": "display_data"
    }
   ],
   "source": [
    "# Using logistic with lag2 and lag1^2\n",
    "logistic_fit4 = glm(Direction ~ Lag2 + I(Lag1^2), data=Weekly, family=binomial, subset=train)\n",
    "\n",
    "# Predictions on the test set.\n",
    "logistic_probs4 = predict(logistic_fit4,Test, type=\"response\")\n",
    "logistic_preds4 = rep(\"Down\", 104) \n",
    "logistic_preds4[logistic_probs4>0.5] = \"Up\" \n",
    "\n",
    "# Confusion matrix.\n",
    "table(logistic_preds4,Test_Direction)"
   ]
  },
  {
   "cell_type": "markdown",
   "metadata": {},
   "source": [
    "This model is correct on 64% of the days."
   ]
  },
  {
   "cell_type": "markdown",
   "metadata": {},
   "source": [
    "### Exercise 11 (p.171, Chap.4)"
   ]
  },
  {
   "cell_type": "markdown",
   "metadata": {},
   "source": [
    "ANSWER 11(a) - "
   ]
  },
  {
   "cell_type": "code",
   "execution_count": 42,
   "metadata": {},
   "outputs": [],
   "source": [
    "# Dataframe with \"Auto\" data and empty \"mpg01\" column\n",
    "df = Auto\n",
    "df$mpg01 = NA\n",
    "median_mpg = median(df$mpg)\n",
    "\n",
    "# Loop\n",
    "for(i in 1:dim(df)[1]){\n",
    "  if (df$mpg[i] > median_mpg){\n",
    "    df$mpg01[i] = 1\n",
    "  }else{\n",
    "    df$mpg01[i] = 0\n",
    "  }\n",
    "}"
   ]
  },
  {
   "cell_type": "code",
   "execution_count": 43,
   "metadata": {},
   "outputs": [],
   "source": [
    "# function to move a column to end of dataframe.\n",
    "movetolast = function(data, move) {\n",
    "  data[c(setdiff(names(data), move), move)]\n",
    "}"
   ]
  },
  {
   "cell_type": "markdown",
   "metadata": {},
   "source": [
    "ANSWER 11(b) - "
   ]
  },
  {
   "cell_type": "code",
   "execution_count": 44,
   "metadata": {},
   "outputs": [
    {
     "data": {
      "image/png": "[encoded data removed]",
      "text/plain": [
       "plot without title"
      ]
     },
     "metadata": {},
     "output_type": "display_data"
    }
   ],
   "source": [
    "df = movetolast(df, c(\"name\"))\n",
    "pairs(df[,1:9])"
   ]
  },
  {
   "cell_type": "code",
   "execution_count": 45,
   "metadata": {},
   "outputs": [
    {
     "data": {
      "text/html": [
       "<table>\n",
       "<thead><tr><th></th><th scope=col>mpg</th><th scope=col>cylinders</th><th scope=col>displacement</th><th scope=col>horsepower</th><th scope=col>weight</th><th scope=col>acceleration</th><th scope=col>year</th><th scope=col>origin</th><th scope=col>mpg01</th></tr></thead>\n",
       "<tbody>\n",
       "\t<tr><th scope=row>mpg</th><td> 1.0000000</td><td>-0.7776175</td><td>-0.8051269</td><td>-0.7784268</td><td>-0.8322442</td><td> 0.4233285</td><td> 0.5805410</td><td> 0.5652088</td><td> 0.8369392</td></tr>\n",
       "\t<tr><th scope=row>cylinders</th><td>-0.7776175</td><td> 1.0000000</td><td> 0.9508233</td><td> 0.8429834</td><td> 0.8975273</td><td>-0.5046834</td><td>-0.3456474</td><td>-0.5689316</td><td>-0.7591939</td></tr>\n",
       "\t<tr><th scope=row>displacement</th><td>-0.8051269</td><td> 0.9508233</td><td> 1.0000000</td><td> 0.8972570</td><td> 0.9329944</td><td>-0.5438005</td><td>-0.3698552</td><td>-0.6145351</td><td>-0.7534766</td></tr>\n",
       "\t<tr><th scope=row>horsepower</th><td>-0.7784268</td><td> 0.8429834</td><td> 0.8972570</td><td> 1.0000000</td><td> 0.8645377</td><td>-0.6891955</td><td>-0.4163615</td><td>-0.4551715</td><td>-0.6670526</td></tr>\n",
       "\t<tr><th scope=row>weight</th><td>-0.8322442</td><td> 0.8975273</td><td> 0.9329944</td><td> 0.8645377</td><td> 1.0000000</td><td>-0.4168392</td><td>-0.3091199</td><td>-0.5850054</td><td>-0.7577566</td></tr>\n",
       "\t<tr><th scope=row>acceleration</th><td> 0.4233285</td><td>-0.5046834</td><td>-0.5438005</td><td>-0.6891955</td><td>-0.4168392</td><td> 1.0000000</td><td> 0.2903161</td><td> 0.2127458</td><td> 0.3468215</td></tr>\n",
       "\t<tr><th scope=row>year</th><td> 0.5805410</td><td>-0.3456474</td><td>-0.3698552</td><td>-0.4163615</td><td>-0.3091199</td><td> 0.2903161</td><td> 1.0000000</td><td> 0.1815277</td><td> 0.4299042</td></tr>\n",
       "\t<tr><th scope=row>origin</th><td> 0.5652088</td><td>-0.5689316</td><td>-0.6145351</td><td>-0.4551715</td><td>-0.5850054</td><td> 0.2127458</td><td> 0.1815277</td><td> 1.0000000</td><td> 0.5136984</td></tr>\n",
       "\t<tr><th scope=row>mpg01</th><td> 0.8369392</td><td>-0.7591939</td><td>-0.7534766</td><td>-0.6670526</td><td>-0.7577566</td><td> 0.3468215</td><td> 0.4299042</td><td> 0.5136984</td><td> 1.0000000</td></tr>\n",
       "</tbody>\n",
       "</table>\n"
      ],
      "text/latex": [
       "\\begin{tabular}{r|lllllllll}\n",
       "  & mpg & cylinders & displacement & horsepower & weight & acceleration & year & origin & mpg01\\\\\n",
       "\\hline\n",
       "\tmpg &  1.0000000 & -0.7776175 & -0.8051269 & -0.7784268 & -0.8322442 &  0.4233285 &  0.5805410 &  0.5652088 &  0.8369392\\\\\n",
       "\tcylinders & -0.7776175 &  1.0000000 &  0.9508233 &  0.8429834 &  0.8975273 & -0.5046834 & -0.3456474 & -0.5689316 & -0.7591939\\\\\n",
       "\tdisplacement & -0.8051269 &  0.9508233 &  1.0000000 &  0.8972570 &  0.9329944 & -0.5438005 & -0.3698552 & -0.6145351 & -0.7534766\\\\\n",
       "\thorsepower & -0.7784268 &  0.8429834 &  0.8972570 &  1.0000000 &  0.8645377 & -0.6891955 & -0.4163615 & -0.4551715 & -0.6670526\\\\\n",
       "\tweight & -0.8322442 &  0.8975273 &  0.9329944 &  0.8645377 &  1.0000000 & -0.4168392 & -0.3091199 & -0.5850054 & -0.7577566\\\\\n",
       "\tacceleration &  0.4233285 & -0.5046834 & -0.5438005 & -0.6891955 & -0.4168392 &  1.0000000 &  0.2903161 &  0.2127458 &  0.3468215\\\\\n",
       "\tyear &  0.5805410 & -0.3456474 & -0.3698552 & -0.4163615 & -0.3091199 &  0.2903161 &  1.0000000 &  0.1815277 &  0.4299042\\\\\n",
       "\torigin &  0.5652088 & -0.5689316 & -0.6145351 & -0.4551715 & -0.5850054 &  0.2127458 &  0.1815277 &  1.0000000 &  0.5136984\\\\\n",
       "\tmpg01 &  0.8369392 & -0.7591939 & -0.7534766 & -0.6670526 & -0.7577566 &  0.3468215 &  0.4299042 &  0.5136984 &  1.0000000\\\\\n",
       "\\end{tabular}\n"
      ],
      "text/markdown": [
       "\n",
       "| <!--/--> | mpg | cylinders | displacement | horsepower | weight | acceleration | year | origin | mpg01 |\n",
       "|---|---|---|---|---|---|---|---|---|---|\n",
       "| mpg |  1.0000000 | -0.7776175 | -0.8051269 | -0.7784268 | -0.8322442 |  0.4233285 |  0.5805410 |  0.5652088 |  0.8369392 |\n",
       "| cylinders | -0.7776175 |  1.0000000 |  0.9508233 |  0.8429834 |  0.8975273 | -0.5046834 | -0.3456474 | -0.5689316 | -0.7591939 |\n",
       "| displacement | -0.8051269 |  0.9508233 |  1.0000000 |  0.8972570 |  0.9329944 | -0.5438005 | -0.3698552 | -0.6145351 | -0.7534766 |\n",
       "| horsepower | -0.7784268 |  0.8429834 |  0.8972570 |  1.0000000 |  0.8645377 | -0.6891955 | -0.4163615 | -0.4551715 | -0.6670526 |\n",
       "| weight | -0.8322442 |  0.8975273 |  0.9329944 |  0.8645377 |  1.0000000 | -0.4168392 | -0.3091199 | -0.5850054 | -0.7577566 |\n",
       "| acceleration |  0.4233285 | -0.5046834 | -0.5438005 | -0.6891955 | -0.4168392 |  1.0000000 |  0.2903161 |  0.2127458 |  0.3468215 |\n",
       "| year |  0.5805410 | -0.3456474 | -0.3698552 | -0.4163615 | -0.3091199 |  0.2903161 |  1.0000000 |  0.1815277 |  0.4299042 |\n",
       "| origin |  0.5652088 | -0.5689316 | -0.6145351 | -0.4551715 | -0.5850054 |  0.2127458 |  0.1815277 |  1.0000000 |  0.5136984 |\n",
       "| mpg01 |  0.8369392 | -0.7591939 | -0.7534766 | -0.6670526 | -0.7577566 |  0.3468215 |  0.4299042 |  0.5136984 |  1.0000000 |\n",
       "\n"
      ],
      "text/plain": [
       "             mpg        cylinders  displacement horsepower weight    \n",
       "mpg           1.0000000 -0.7776175 -0.8051269   -0.7784268 -0.8322442\n",
       "cylinders    -0.7776175  1.0000000  0.9508233    0.8429834  0.8975273\n",
       "displacement -0.8051269  0.9508233  1.0000000    0.8972570  0.9329944\n",
       "horsepower   -0.7784268  0.8429834  0.8972570    1.0000000  0.8645377\n",
       "weight       -0.8322442  0.8975273  0.9329944    0.8645377  1.0000000\n",
       "acceleration  0.4233285 -0.5046834 -0.5438005   -0.6891955 -0.4168392\n",
       "year          0.5805410 -0.3456474 -0.3698552   -0.4163615 -0.3091199\n",
       "origin        0.5652088 -0.5689316 -0.6145351   -0.4551715 -0.5850054\n",
       "mpg01         0.8369392 -0.7591939 -0.7534766   -0.6670526 -0.7577566\n",
       "             acceleration year       origin     mpg01     \n",
       "mpg           0.4233285    0.5805410  0.5652088  0.8369392\n",
       "cylinders    -0.5046834   -0.3456474 -0.5689316 -0.7591939\n",
       "displacement -0.5438005   -0.3698552 -0.6145351 -0.7534766\n",
       "horsepower   -0.6891955   -0.4163615 -0.4551715 -0.6670526\n",
       "weight       -0.4168392   -0.3091199 -0.5850054 -0.7577566\n",
       "acceleration  1.0000000    0.2903161  0.2127458  0.3468215\n",
       "year          0.2903161    1.0000000  0.1815277  0.4299042\n",
       "origin        0.2127458    0.1815277  1.0000000  0.5136984\n",
       "mpg01         0.3468215    0.4299042  0.5136984  1.0000000"
      ]
     },
     "metadata": {},
     "output_type": "display_data"
    }
   ],
   "source": [
    "cor(df[,1:9])"
   ]
  },
  {
   "cell_type": "markdown",
   "metadata": {},
   "source": [
    "  - There is a strong positive correlation between `mpg` and `mpg01`, and a strong negative correlation between `cylinders`, `displacement`, `weight`, `horsepower` and `mpg01`.\n",
    "  - I will use these variables except `mpg`.`mpg` was used to separate observations into `mpg01` values and so using it can lead to perfectly separating test observations."
   ]
  },
  {
   "cell_type": "markdown",
   "metadata": {},
   "source": [
    "ANSWER 11(c) - "
   ]
  },
  {
   "cell_type": "code",
   "execution_count": 53,
   "metadata": {},
   "outputs": [
    {
     "name": "stdout",
     "output_type": "stream",
     "text": [
      "package 'caTools' successfully unpacked and MD5 sums checked\n",
      "\n",
      "The downloaded binary packages are in\n",
      "\tC:\\Users\\pbhurji\\AppData\\Local\\Temp\\RtmpyKY3wT\\downloaded_packages\n"
     ]
    },
    {
     "name": "stderr",
     "output_type": "stream",
     "text": [
      "Warning message:\n",
      "\"package 'caTools' was built under R version 3.6.3\""
     ]
    }
   ],
   "source": [
    "install.packages(\"caTools\")\n",
    "library(caTools)"
   ]
  },
  {
   "cell_type": "code",
   "execution_count": 54,
   "metadata": {},
   "outputs": [],
   "source": [
    "# Training and Test data\n",
    "require(caTools)\n",
    "set.seed(123)\n",
    "sample_data = sample.split(df$mpg, SplitRatio = 0.70)\n",
    "train2 = subset(df, sample_data==TRUE) \n",
    "test2 = subset(df, sample_data==FALSE)"
   ]
  },
  {
   "cell_type": "markdown",
   "metadata": {},
   "source": [
    "ANSWER 11(d) - "
   ]
  },
  {
   "cell_type": "code",
   "execution_count": 56,
   "metadata": {},
   "outputs": [
    {
     "data": {
      "text/plain": [
       "           actual\n",
       "predictions  0  1\n",
       "          0 48  4\n",
       "          1  8 44"
      ]
     },
     "metadata": {},
     "output_type": "display_data"
    }
   ],
   "source": [
    "# LDA model \n",
    "lda_fit3 = lda(mpg01 ~ cylinders+displacement+horsepower+weight, data=train2)\n",
    "\n",
    "# Predictions and confusion matrix\n",
    "lda_pred3 = predict(lda_fit3,test2)\n",
    "predictions = lda_pred3$class\n",
    "actual = test2$mpg01\n",
    "table(predictions,actual)"
   ]
  },
  {
   "cell_type": "markdown",
   "metadata": {},
   "source": [
    "The test error of this model is 11.5%."
   ]
  },
  {
   "cell_type": "markdown",
   "metadata": {},
   "source": [
    "ANSWER 11(e) - "
   ]
  },
  {
   "cell_type": "code",
   "execution_count": 57,
   "metadata": {},
   "outputs": [
    {
     "data": {
      "text/plain": [
       "           actual\n",
       "predictions  0  1\n",
       "          0 50  4\n",
       "          1  6 44"
      ]
     },
     "metadata": {},
     "output_type": "display_data"
    }
   ],
   "source": [
    "# QDA model\n",
    "qda_fit2 = qda(mpg01 ~ cylinders+displacement+horsepower+weight, data=train2)\n",
    "qda_pred2 = predict(qda_fit2,test2)\n",
    "predictions = qda_pred2$class\n",
    "table(predictions,actual)"
   ]
  },
  {
   "cell_type": "markdown",
   "metadata": {},
   "source": [
    "The QDA model has a test error of 9.6%."
   ]
  },
  {
   "cell_type": "markdown",
   "metadata": {},
   "source": [
    "ANSWER 11(f) - "
   ]
  },
  {
   "cell_type": "code",
   "execution_count": 58,
   "metadata": {},
   "outputs": [
    {
     "data": {
      "text/plain": [
       "               actual\n",
       "logistic_preds5  0  1\n",
       "              0 50  4\n",
       "              1  6 44"
      ]
     },
     "metadata": {},
     "output_type": "display_data"
    }
   ],
   "source": [
    "# Logistic regression model\n",
    "logistic_fit5 = glm(mpg01 ~ cylinders+displacement+horsepower+weight, data=train2, family=binomial)\n",
    "\n",
    "logistic_probs5 = predict(logistic_fit5,test2, type=\"response\")\n",
    "logistic_preds5 = rep(0, length(test2$mpg01)) \n",
    "logistic_preds5[logistic_probs5>0.5] = 1 \n",
    "\n",
    "table(logistic_preds5,actual)"
   ]
  },
  {
   "cell_type": "markdown",
   "metadata": {},
   "source": [
    "The logistic model has a 9.6% test error rate."
   ]
  },
  {
   "cell_type": "markdown",
   "metadata": {},
   "source": [
    "ANSWER 11(g) - "
   ]
  },
  {
   "cell_type": "code",
   "execution_count": 59,
   "metadata": {},
   "outputs": [
    {
     "data": {
      "text/plain": [
       "         test2_y\n",
       "knn_pred4  0  1\n",
       "        0 45  9\n",
       "        1 11 39"
      ]
     },
     "metadata": {},
     "output_type": "display_data"
    }
   ],
   "source": [
    "# Train, Test and response matrices.\n",
    "train2_matrix = data.matrix(train2[,c(\"cylinders\",\"displacement\",\"weight\",\"horsepower\")])\n",
    "test2_matrix = data.matrix(test2[,c(\"cylinders\",\"displacement\",\"weight\",\"horsepower\")])\n",
    "train2_y = data.matrix(train2$mpg01)\n",
    "test2_y = data.matrix(test2$mpg01)\n",
    "\n",
    "# K=1 and predictions\n",
    "knn_pred4 = knn(train2_matrix, test2_matrix, train2_y, k=1)\n",
    "table(knn_pred4, test2_y)"
   ]
  },
  {
   "cell_type": "markdown",
   "metadata": {},
   "source": [
    "KNN with K=1 has a test error of 20%."
   ]
  },
  {
   "cell_type": "code",
   "execution_count": 60,
   "metadata": {},
   "outputs": [
    {
     "data": {
      "text/plain": [
       "         test2_y\n",
       "knn_pred5  0  1\n",
       "        0 45  5\n",
       "        1 11 43"
      ]
     },
     "metadata": {},
     "output_type": "display_data"
    }
   ],
   "source": [
    "# K=3 and predictions\n",
    "knn_pred5 = knn(train2_matrix, test2_matrix, train2_y, k=3)\n",
    "table(knn_pred5, test2_y)"
   ]
  },
  {
   "cell_type": "markdown",
   "metadata": {},
   "source": [
    "KNN with K=3 is has a test error of 15%."
   ]
  },
  {
   "cell_type": "code",
   "execution_count": 61,
   "metadata": {},
   "outputs": [
    {
     "data": {
      "text/plain": [
       "         test2_y\n",
       "knn_pred6  0  1\n",
       "        0 45  4\n",
       "        1 11 44"
      ]
     },
     "metadata": {},
     "output_type": "display_data"
    }
   ],
   "source": [
    "# K=9 and predictions\n",
    "knn_pred6 = knn(train2_matrix, test2_matrix, train2_y, k=10)\n",
    "table(knn_pred6, test2_y)"
   ]
  },
  {
   "cell_type": "markdown",
   "metadata": {},
   "source": [
    "K=10 leads to a slight improvement in test error(14.4%), with diminishing returns as K gets even higher."
   ]
  },
  {
   "cell_type": "code",
   "execution_count": null,
   "metadata": {},
   "outputs": [],
   "source": []
  }
 ],
 "metadata": {
  "kernelspec": {
   "display_name": "R",
   "language": "R",
   "name": "ir"
  },
  "language_info": {
   "codemirror_mode": "r",
   "file_extension": ".r",
   "mimetype": "text/x-r-source",
   "name": "R",
   "pygments_lexer": "r",
   "version": "3.6.1"
  }
 },
 "nbformat": 4,
 "nbformat_minor": 2
}
