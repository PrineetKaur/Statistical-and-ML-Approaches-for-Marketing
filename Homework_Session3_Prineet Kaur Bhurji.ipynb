{
 "cells": [
  {
   "cell_type": "markdown",
   "id": "younger-healthcare",
   "metadata": {},
   "source": [
    "![ieseg logo](./img/ieseg.png)\n",
    "\n",
    "#### MBD 2020-2021\n",
    "# Statistical & Machine Learning Approaches for Marketing\n",
    "\n",
    "## Homework Session 3"
   ]
  },
  {
   "cell_type": "markdown",
   "id": "front-spirit",
   "metadata": {},
   "source": [
    "### Chapter 5 Exercise 3 (Page 198, Conceptual)"
   ]
  },
  {
   "cell_type": "markdown",
   "id": "protecting-slope",
   "metadata": {},
   "source": [
    "We now review k-fold cross-validation.\n",
    "\n",
    "(a) Explain how k-fold cross-validation is implemented."
   ]
  },
  {
   "cell_type": "markdown",
   "id": "separated-tobago",
   "metadata": {},
   "source": [
    "The data is divided into 'k' number of equal parts. \n",
    "The Machine Learning model is trained 'k' times, each time on different sets of 'k-1' parts of the data. The one exluded part is used to test the model and is called as the validation data. \n",
    "The accuracy is calculated 'k' times for each of the 'k' parts of data as test data and the model accuracy is the mean of all accuracies."
   ]
  },
  {
   "cell_type": "markdown",
   "id": "generic-detroit",
   "metadata": {},
   "source": [
    "(b) What are the advantages and disadvantages of k-fold cross-validation relative to:\n",
    "\n",
    "i. The validation set approach?\n",
    "\n",
    "ii. LOOCV?"
   ]
  },
  {
   "cell_type": "markdown",
   "id": "lesser-procedure",
   "metadata": {},
   "source": [
    "(i) Compared to validation set approach, k-fold is more accuracte and the variance is low. All the data is fitted and hence, the model is less underfitted than a validation set approach.\n",
    "\n",
    "(ii) LOOCV needs lots of computation power as it fits a huge number of ML models. The randomness of validation data in k-fold cross validation allows a more accurate result, as LOOCV can be fitted on the same data multiple times."
   ]
  },
  {
   "cell_type": "markdown",
   "id": "polished-egyptian",
   "metadata": {},
   "source": [
    "### Chapter 5 Exercise 8 (Page 200, Applied)"
   ]
  },
  {
   "cell_type": "markdown",
   "id": "fuzzy-converter",
   "metadata": {},
   "source": [
    "In Chapter 4, we used logistic regression to predict the probability of default using income and balance on the Default data set. We will now estimate the test error of this logistic regression model using the validation set approach. Do not forget to set a random seed before beginning your analysis."
   ]
  },
  {
   "cell_type": "code",
   "execution_count": 1,
   "id": "pleased-knowing",
   "metadata": {},
   "outputs": [
    {
     "name": "stderr",
     "output_type": "stream",
     "text": [
      "Warning message:\n",
      "\"package 'ISLR' was built under R version 3.6.3\""
     ]
    }
   ],
   "source": [
    "library(ISLR)"
   ]
  },
  {
   "cell_type": "markdown",
   "id": "threaded-delivery",
   "metadata": {},
   "source": [
    "(a) Fit a logistic regression model that uses income and balance to predict default."
   ]
  },
  {
   "cell_type": "code",
   "execution_count": 2,
   "id": "closing-bottom",
   "metadata": {},
   "outputs": [
    {
     "data": {
      "text/plain": [
       "\n",
       "Call:\n",
       "glm(formula = default ~ income + balance, family = \"binomial\", \n",
       "    data = Default)\n",
       "\n",
       "Deviance Residuals: \n",
       "    Min       1Q   Median       3Q      Max  \n",
       "-2.4725  -0.1444  -0.0574  -0.0211   3.7245  \n",
       "\n",
       "Coefficients:\n",
       "              Estimate Std. Error z value Pr(>|z|)    \n",
       "(Intercept) -1.154e+01  4.348e-01 -26.545  < 2e-16 ***\n",
       "income       2.081e-05  4.985e-06   4.174 2.99e-05 ***\n",
       "balance      5.647e-03  2.274e-04  24.836  < 2e-16 ***\n",
       "---\n",
       "Signif. codes:  0 '***' 0.001 '**' 0.01 '*' 0.05 '.' 0.1 ' ' 1\n",
       "\n",
       "(Dispersion parameter for binomial family taken to be 1)\n",
       "\n",
       "    Null deviance: 2920.6  on 9999  degrees of freedom\n",
       "Residual deviance: 1579.0  on 9997  degrees of freedom\n",
       "AIC: 1585\n",
       "\n",
       "Number of Fisher Scoring iterations: 8\n"
      ]
     },
     "metadata": {},
     "output_type": "display_data"
    }
   ],
   "source": [
    "model_a <- glm(default ~ income + balance, data = Default, family = \"binomial\")\n",
    "summary(model_a)"
   ]
  },
  {
   "cell_type": "markdown",
   "id": "mental-collapse",
   "metadata": {},
   "source": [
    "(b) Using the validation set approach, estimate the test error of this model. In order to do this, you must perform the following steps:\n",
    "\n",
    "i. Split the sample set into a training set and a validation set."
   ]
  },
  {
   "cell_type": "code",
   "execution_count": 3,
   "id": "serious-saying",
   "metadata": {},
   "outputs": [],
   "source": [
    "train <- sample(dim(Default)[1], dim(Default)[1] / 2)"
   ]
  },
  {
   "cell_type": "markdown",
   "id": "round-causing",
   "metadata": {},
   "source": [
    "ii. Fit a multiple logistic regression model using only the training observations."
   ]
  },
  {
   "cell_type": "code",
   "execution_count": 4,
   "id": "gothic-genome",
   "metadata": {},
   "outputs": [
    {
     "data": {
      "text/plain": [
       "\n",
       "Call:\n",
       "glm(formula = default ~ income + balance, family = \"binomial\", \n",
       "    data = Default, subset = train)\n",
       "\n",
       "Deviance Residuals: \n",
       "    Min       1Q   Median       3Q      Max  \n",
       "-2.3391  -0.1525  -0.0632  -0.0243   3.2705  \n",
       "\n",
       "Coefficients:\n",
       "              Estimate Std. Error z value Pr(>|z|)    \n",
       "(Intercept) -1.094e+01  5.781e-01 -18.915   <2e-16 ***\n",
       "income       1.619e-05  7.075e-06   2.289   0.0221 *  \n",
       "balance      5.349e-03  3.024e-04  17.689   <2e-16 ***\n",
       "---\n",
       "Signif. codes:  0 '***' 0.001 '**' 0.01 '*' 0.05 '.' 0.1 ' ' 1\n",
       "\n",
       "(Dispersion parameter for binomial family taken to be 1)\n",
       "\n",
       "    Null deviance: 1470.42  on 4999  degrees of freedom\n",
       "Residual deviance:  814.01  on 4997  degrees of freedom\n",
       "AIC: 820.01\n",
       "\n",
       "Number of Fisher Scoring iterations: 8\n"
      ]
     },
     "metadata": {},
     "output_type": "display_data"
    }
   ],
   "source": [
    "model_b <- glm(default ~ income + balance, data = Default, family = \"binomial\", subset = train)\n",
    "summary(model_b)"
   ]
  },
  {
   "cell_type": "markdown",
   "id": "concerned-equivalent",
   "metadata": {},
   "source": [
    "iii. Obtain a prediction of default status for each individual in the validation set by computing the posterior probability of default for that individual, and classifying the individual to the default category if the posterior probability is greater than 0.5."
   ]
  },
  {
   "cell_type": "code",
   "execution_count": 5,
   "id": "southern-factor",
   "metadata": {},
   "outputs": [],
   "source": [
    "probability <- predict(model_b, newdata = Default[-train, ], type = \"response\")\n",
    "predictions <- rep(\"No\", length(probability))\n",
    "predictions[probability > 0.5] <- \"Yes\""
   ]
  },
  {
   "cell_type": "markdown",
   "id": "filled-wound",
   "metadata": {},
   "source": [
    "iv. Compute the validation set error, which is the fraction of the observations in the validation set that are misclassified."
   ]
  },
  {
   "cell_type": "code",
   "execution_count": 6,
   "id": "brief-small",
   "metadata": {},
   "outputs": [
    {
     "name": "stdout",
     "output_type": "stream",
     "text": [
      "Accuracy :  0.9748"
     ]
    }
   ],
   "source": [
    "cat(\"Accuracy : \", sum(predictions == Default[-train, ]$default) / length(predictions))"
   ]
  },
  {
   "cell_type": "code",
   "execution_count": 7,
   "id": "continent-monthly",
   "metadata": {},
   "outputs": [
    {
     "name": "stdout",
     "output_type": "stream",
     "text": [
      "Error rate :  0.0252"
     ]
    }
   ],
   "source": [
    "cat(\"Error rate : \", 1 - sum(predictions == Default[-train, ]$default) / length(predictions))"
   ]
  },
  {
   "cell_type": "markdown",
   "id": "charged-aruba",
   "metadata": {},
   "source": [
    "(c) Repeat the process in (b) three times, using three different splits of the observations into a training set and a validation set. Comment on the results obtained."
   ]
  },
  {
   "cell_type": "code",
   "execution_count": 8,
   "id": "fatal-continent",
   "metadata": {},
   "outputs": [
    {
     "name": "stdout",
     "output_type": "stream",
     "text": [
      "Error rate :  0.0268"
     ]
    }
   ],
   "source": [
    "# 1\n",
    "train <- sample(dim(Default)[1], dim(Default)[1] / 2)\n",
    "model_b <- glm(default ~ income + balance, data = Default, family = \"binomial\", subset = train)\n",
    "# summary(model_b)\n",
    "probability <- predict(model_b, newdata = Default[-train, ], type = \"response\")\n",
    "predictions <- rep(\"No\", length(probability))\n",
    "predictions[probability > 0.5] <- \"Yes\"\n",
    "cat(\"Error rate : \", 1 - sum(predictions == Default[-train, ]$default) / length(predictions))"
   ]
  },
  {
   "cell_type": "code",
   "execution_count": 9,
   "id": "velvet-nation",
   "metadata": {},
   "outputs": [
    {
     "name": "stdout",
     "output_type": "stream",
     "text": [
      "Error rate :  0.0272"
     ]
    }
   ],
   "source": [
    "# 2\n",
    "train <- sample(dim(Default)[1], dim(Default)[1] / 2)\n",
    "model_b <- glm(default ~ income + balance, data = Default, family = \"binomial\", subset = train)\n",
    "# summary(model_b)\n",
    "probability <- predict(model_b, newdata = Default[-train, ], type = \"response\")\n",
    "predictions <- rep(\"No\", length(probability))\n",
    "predictions[probability > 0.5] <- \"Yes\"\n",
    "cat(\"Error rate : \", 1 - sum(predictions == Default[-train, ]$default) / length(predictions))"
   ]
  },
  {
   "cell_type": "code",
   "execution_count": 10,
   "id": "grave-victorian",
   "metadata": {},
   "outputs": [
    {
     "name": "stdout",
     "output_type": "stream",
     "text": [
      "Error rate :  0.0276"
     ]
    }
   ],
   "source": [
    "# 3\n",
    "train <- sample(dim(Default)[1], dim(Default)[1] / 2)\n",
    "model_b <- glm(default ~ income + balance, data = Default, family = \"binomial\", subset = train)\n",
    "# summary(model_b)\n",
    "probability <- predict(model_b, newdata = Default[-train, ], type = \"response\")\n",
    "predictions <- rep(\"No\", length(probability))\n",
    "predictions[probability > 0.5] <- \"Yes\"\n",
    "cat(\"Error rate : \", 1 - sum(predictions == Default[-train, ]$default) / length(predictions))"
   ]
  },
  {
   "cell_type": "markdown",
   "id": "improved-diesel",
   "metadata": {},
   "source": [
    "(d) Now consider a logistic regression model that predicts the probability of default using income, balance, and a dummy variable for student. Estimate the test error for this model using the validation set approach. Comment on whether or not including a dummy variable for student leads to a reduction in the test error rate."
   ]
  },
  {
   "cell_type": "code",
   "execution_count": 11,
   "id": "welcome-finish",
   "metadata": {},
   "outputs": [
    {
     "name": "stdout",
     "output_type": "stream",
     "text": [
      "Error rate :  0.034"
     ]
    }
   ],
   "source": [
    "train <- sample(dim(Default)[1], dim(Default)[1] / 2)\n",
    "model_c <- glm(default ~ income + balance + student, data = Default, family = \"binomial\", subset = train)\n",
    "probability <- predict(model_c, newdata = Default[-train, ], type = \"response\")\n",
    "predictions <- rep(\"No\", length(probability))\n",
    "model_c[probability > 0.5] <- \"Yes\"\n",
    "cat(\"Error rate : \", 1 - sum(predictions == Default[-train, ]$default) / length(predictions))"
   ]
  },
  {
   "cell_type": "markdown",
   "id": "cleared-victim",
   "metadata": {},
   "source": [
    "Adding dummy variable for student increased the error rate."
   ]
  },
  {
   "cell_type": "markdown",
   "id": "adolescent-botswana",
   "metadata": {},
   "source": [
    "### Chapter 6 Exercise 1 (Page 259, Conceptual)"
   ]
  },
  {
   "cell_type": "markdown",
   "id": "related-fruit",
   "metadata": {},
   "source": [
    "We perform best subset, forward step-wise, and backward step-wise selection on a single data set. For each approach, we obtain p+1 models, containing 0,1,2,...,p predictors. Explain your answers:\n",
    "\n",
    "(a) Which of the three models with k predictors has the smallest training RSS?"
   ]
  },
  {
   "cell_type": "markdown",
   "id": "painted-classics",
   "metadata": {},
   "source": [
    "The smallest training RSS will be for the model with best subset. This is because the model will be chosen after considering all the possible models with k parameters. This is not true for either backward stepwise or forward stepwise."
   ]
  },
  {
   "cell_type": "markdown",
   "id": "robust-chase",
   "metadata": {},
   "source": [
    "(b) Which of the three models with k predictors has the smallest test RSS?"
   ]
  },
  {
   "cell_type": "markdown",
   "id": "heard-american",
   "metadata": {},
   "source": [
    "Cannot be determined."
   ]
  },
  {
   "cell_type": "markdown",
   "id": "loving-middle",
   "metadata": {},
   "source": [
    "(c) True or False:\n",
    "\n",
    "i. The predictors in the k-variable model identified by forward step-wise are a subset of the predictors in the (k+1)- variable model identified by forward step-wise selection.\n",
    "\n",
    "TRUE\n",
    "\n",
    "ii. The predictors in the k-variable model identified by backward stepwise are a subset of the predictors in the (k+1) -variable model identified by backward stepwise selection.\n",
    "\n",
    "TRUE\n",
    "\n",
    "iii. The predictors in the k-variable model identified by backward stepwise are a subset of the predictors in the (k+1) -variable model identified by forward step-wise selection.\n",
    "\n",
    "FALSE\n",
    "\n",
    "iv. The predictors in the k-variable model identified by forward step-wise are a subset of the predictors in the (k+1) -variable model identified by backward step-wise selection.\n",
    "\n",
    "FALSE\n",
    "\n",
    "v. The predictors in the k-variable model identified by best subset are a subset of the predictors in the (k+1) -variable model identified by best subset selection.\n",
    "\n",
    "FALSE"
   ]
  },
  {
   "cell_type": "markdown",
   "id": "spiritual-samoa",
   "metadata": {},
   "source": [
    "### Chapter 6 Exercise 9 (Page 263, Applied)"
   ]
  },
  {
   "cell_type": "markdown",
   "id": "northern-artist",
   "metadata": {},
   "source": [
    "In this exercise, we will predict the number of applications received using the other variables in the College dataset.\n",
    "\n",
    "(a) Split the data set into a training set and a test set."
   ]
  },
  {
   "cell_type": "code",
   "execution_count": 12,
   "id": "outstanding-government",
   "metadata": {},
   "outputs": [],
   "source": [
    "library(ISLR)\n",
    "data(College)\n",
    "set.seed(11)\n",
    "train <- sample(dim(College)[1], dim(College)[1] / 2)\n",
    "test <- -train\n",
    "College_train <- College[train, ]\n",
    "College_test <- College[test, ]"
   ]
  },
  {
   "cell_type": "markdown",
   "id": "decreased-gossip",
   "metadata": {},
   "source": [
    "(b) Fit a linear model using least squares on the training set, and report the test error obtained."
   ]
  },
  {
   "cell_type": "code",
   "execution_count": 13,
   "id": "familiar-madness",
   "metadata": {},
   "outputs": [
    {
     "data": {
      "text/html": [
       "1026095.92589411"
      ],
      "text/latex": [
       "1026095.92589411"
      ],
      "text/markdown": [
       "1026095.92589411"
      ],
      "text/plain": [
       "[1] 1026096"
      ]
     },
     "metadata": {},
     "output_type": "display_data"
    }
   ],
   "source": [
    "model_a <- lm(Apps ~ ., data = College_train)\n",
    "predictions <- predict(model_a, College_test)\n",
    "# sum(predictions == College_test$Apps) / length(predictions)\n",
    "mean((predictions - College_test$Apps)^2)"
   ]
  },
  {
   "cell_type": "markdown",
   "id": "common-impression",
   "metadata": {},
   "source": [
    "(c) Fit a ridge regression model on the training set, with λ chosen by cross-validation. Report the test error obtained."
   ]
  },
  {
   "cell_type": "code",
   "execution_count": 14,
   "id": "fitted-collaboration",
   "metadata": {},
   "outputs": [
    {
     "name": "stderr",
     "output_type": "stream",
     "text": [
      "Loading required package: Matrix\n",
      "Loading required package: foreach\n",
      "Loaded glmnet 2.0-16\n",
      "\n"
     ]
    },
    {
     "data": {
      "text/html": [
       "0.01"
      ],
      "text/latex": [
       "0.01"
      ],
      "text/markdown": [
       "0.01"
      ],
      "text/plain": [
       "[1] 0.01"
      ]
     },
     "metadata": {},
     "output_type": "display_data"
    }
   ],
   "source": [
    "library(glmnet)\n",
    "train_mat <- model.matrix(Apps ~ ., data = College_train)\n",
    "test_mat <- model.matrix(Apps ~ ., data = College_test)\n",
    "grid <- 10 ^ seq(4, -2, length = 100)\n",
    "model_ridge <- glmnet(train_mat, College_train$Apps, alpha = 0, lambda = grid, thresh = 1e-12)\n",
    "cv_ridge <- cv.glmnet(train_mat, College_train$Apps, alpha = 0, lambda = grid, thresh = 1e-12)\n",
    "bestlam_ridge <- cv_ridge$lambda.min\n",
    "bestlam_ridge"
   ]
  },
  {
   "cell_type": "code",
   "execution_count": 15,
   "id": "sufficient-advertising",
   "metadata": {},
   "outputs": [
    {
     "data": {
      "text/html": [
       "1026068.65314469"
      ],
      "text/latex": [
       "1026068.65314469"
      ],
      "text/markdown": [
       "1026068.65314469"
      ],
      "text/plain": [
       "[1] 1026069"
      ]
     },
     "metadata": {},
     "output_type": "display_data"
    }
   ],
   "source": [
    "predictions <- predict(model_ridge, s = bestlam_ridge, newx = test_mat)\n",
    "mean((predictions - College_test$Apps)^2)"
   ]
  },
  {
   "cell_type": "markdown",
   "id": "jewish-conservative",
   "metadata": {},
   "source": [
    "The error is almost the same."
   ]
  },
  {
   "cell_type": "markdown",
   "id": "solid-apache",
   "metadata": {},
   "source": [
    "(d) Fit a lasso model on the training set, with λ chosen by cross-validation. Report the test error obtained, along with the number of non-zero coefficient estimates."
   ]
  },
  {
   "cell_type": "code",
   "execution_count": 16,
   "id": "hollywood-sunrise",
   "metadata": {},
   "outputs": [
    {
     "data": {
      "text/html": [
       "0.01"
      ],
      "text/latex": [
       "0.01"
      ],
      "text/markdown": [
       "0.01"
      ],
      "text/plain": [
       "[1] 0.01"
      ]
     },
     "metadata": {},
     "output_type": "display_data"
    }
   ],
   "source": [
    "model_lasso <- glmnet(train_mat, College_train$Apps, alpha = 1, lambda = grid, thresh = 1e-12)\n",
    "cv.lasso <- cv.glmnet(train_mat, College_train$Apps, alpha = 1, lambda = grid, thresh = 1e-12)\n",
    "bestlam.lasso <- cv.lasso$lambda.min\n",
    "bestlam.lasso"
   ]
  },
  {
   "cell_type": "code",
   "execution_count": 17,
   "id": "fleet-pacific",
   "metadata": {},
   "outputs": [
    {
     "data": {
      "text/html": [
       "1026035.85789427"
      ],
      "text/latex": [
       "1026035.85789427"
      ],
      "text/markdown": [
       "1026035.85789427"
      ],
      "text/plain": [
       "[1] 1026036"
      ]
     },
     "metadata": {},
     "output_type": "display_data"
    }
   ],
   "source": [
    "predictions <- predict(model_lasso, s = bestlam.lasso, newx = test_mat)\n",
    "mean((predictions - College_test$Apps)^2)"
   ]
  },
  {
   "cell_type": "markdown",
   "id": "serial-implementation",
   "metadata": {},
   "source": [
    "The error is again almost the same."
   ]
  },
  {
   "cell_type": "markdown",
   "id": "disturbed-pixel",
   "metadata": {},
   "source": [
    "(e) Fit a PCR model on the training set, with M chosen by cross-validation. Report the test error obtained, along with the value of M selected by cross-validation.\n",
    "\n",
    "(f) Fit a PLS model on the training set, with M chosen by cross-validation. Report the test error obtained, along with the value of M selected by cross-validation."
   ]
  },
  {
   "cell_type": "code",
   "execution_count": 18,
   "id": "yellow-gender",
   "metadata": {},
   "outputs": [
    {
     "name": "stderr",
     "output_type": "stream",
     "text": [
      "Warning message:\n",
      "\"package 'pls' was built under R version 3.6.3\"\n",
      "Attaching package: 'pls'\n",
      "\n",
      "The following object is masked from 'package:stats':\n",
      "\n",
      "    loadings\n",
      "\n"
     ]
    },
    {
     "data": {
      "text/html": [
       "1867486.04890402"
      ],
      "text/latex": [
       "1867486.04890402"
      ],
      "text/markdown": [
       "1867486.04890402"
      ],
      "text/plain": [
       "[1] 1867486"
      ]
     },
     "metadata": {},
     "output_type": "display_data"
    }
   ],
   "source": [
    "library(pls)\n",
    "model_pcr <- pcr(Apps ~ ., data = College_train, scale = TRUE, validation = \"CV\")\n",
    "# validationplot(model_pcr, val.type = \"MSEP\")\n",
    "predictions <- predict(model_pcr, College_test, ncomp = 10)\n",
    "mean((predictions - College_test$Apps)^2)"
   ]
  },
  {
   "cell_type": "markdown",
   "id": "incorporate-plain",
   "metadata": {},
   "source": [
    "The error is very high."
   ]
  },
  {
   "cell_type": "markdown",
   "id": "fifteen-racing",
   "metadata": {},
   "source": [
    "(g) Comment on the results obtained. How accurately can we predict the number of college applications received? Is there much difference among the test errors resulting from these five approaches?"
   ]
  },
  {
   "cell_type": "markdown",
   "id": "secondary-miracle",
   "metadata": {},
   "source": [
    "All models, except PCR, predict college applications with high accuracy."
   ]
  },
  {
   "cell_type": "markdown",
   "id": "least-wheel",
   "metadata": {},
   "source": [
    "### Chapter 7 Exercise 9 (Page 299, Applied)"
   ]
  },
  {
   "cell_type": "markdown",
   "id": "polished-rwanda",
   "metadata": {},
   "source": [
    "This question uses the variables dis(the weighted mean of distances to five Boston employment centers) and nox(nitrogen oxides concentration in parts per 10 million) from the Boston data. We will treat dis as the predictor and nox as the response.\n",
    "\n",
    "(a) Use the poly() function to fit a cubic polynomial regression to predict nox using dis. Report the regression output, and plot the resulting data and polynomial fits."
   ]
  },
  {
   "cell_type": "code",
   "execution_count": 19,
   "id": "compact-passage",
   "metadata": {},
   "outputs": [
    {
     "name": "stderr",
     "output_type": "stream",
     "text": [
      "Warning message:\n",
      "\"package 'MASS' was built under R version 3.6.3\"Registered S3 method overwritten by 'rvest':\n",
      "  method            from\n",
      "  read_xml.response xml2\n",
      "-- Attaching packages ------------------------------------------------------------------------------- tidyverse 1.2.1 --\n",
      "v ggplot2 3.3.3     v purrr   0.3.2\n",
      "v tibble  3.0.5     v dplyr   1.0.3\n",
      "v tidyr   1.1.2     v stringr 1.4.0\n",
      "v readr   1.3.1     v forcats 0.4.0\n",
      "Warning message:\n",
      "\"package 'ggplot2' was built under R version 3.6.3\"Warning message:\n",
      "\"package 'tibble' was built under R version 3.6.3\"Warning message:\n",
      "\"package 'tidyr' was built under R version 3.6.3\"Warning message:\n",
      "\"package 'dplyr' was built under R version 3.6.3\"-- Conflicts ---------------------------------------------------------------------------------- tidyverse_conflicts() --\n",
      "x purrr::accumulate() masks foreach::accumulate()\n",
      "x tidyr::expand()     masks Matrix::expand()\n",
      "x dplyr::filter()     masks stats::filter()\n",
      "x dplyr::lag()        masks stats::lag()\n",
      "x tidyr::pack()       masks Matrix::pack()\n",
      "x dplyr::select()     masks MASS::select()\n",
      "x tidyr::unpack()     masks Matrix::unpack()\n",
      "x purrr::when()       masks foreach::when()\n",
      "Warning message:\n",
      "\"package 'ggthemes' was built under R version 3.6.3\"Warning message:\n",
      "\"package 'caret' was built under R version 3.6.3\"Loading required package: lattice\n",
      "\n",
      "Attaching package: 'caret'\n",
      "\n",
      "The following object is masked from 'package:purrr':\n",
      "\n",
      "    lift\n",
      "\n",
      "The following object is masked from 'package:pls':\n",
      "\n",
      "    R2\n",
      "\n"
     ]
    },
    {
     "data": {
      "text/plain": [
       "\n",
       "\n",
       "|term          | estimate| std.error| statistic| p.value|\n",
       "|:-------------|--------:|---------:|---------:|-------:|\n",
       "|(Intercept)   |    0.555|     0.003|   201.021|       0|\n",
       "|poly(dis, 3)1 |   -2.003|     0.062|   -32.271|       0|\n",
       "|poly(dis, 3)2 |    0.856|     0.062|    13.796|       0|\n",
       "|poly(dis, 3)3 |   -0.318|     0.062|    -5.124|       0|"
      ]
     },
     "metadata": {},
     "output_type": "display_data"
    }
   ],
   "source": [
    "library(MASS) \n",
    "library(tidyverse) \n",
    "library(ggplot2) \n",
    "library(ggthemes)\n",
    "library(broom) \n",
    "library(knitr) \n",
    "library(caret)\n",
    "theme_set(theme_tufte(base_size = 14) + theme(legend.position = 'top'))\n",
    "data('Boston')\n",
    "\n",
    "model <- lm(nox ~ poly(dis, 3), data = Boston)\n",
    "tidy(model) %>%\n",
    "    kable(digits = 3)"
   ]
  },
  {
   "cell_type": "markdown",
   "id": "collaborative-pasta",
   "metadata": {},
   "source": [
    "(b) Plot the polynomial fits for a range of different polynomial degrees (say, from 1 to 10), and report the associated residual sum of squares."
   ]
  },
  {
   "cell_type": "code",
   "execution_count": 20,
   "id": "amateur-heater",
   "metadata": {
    "scrolled": true
   },
   "outputs": [
    {
     "name": "stderr",
     "output_type": "stream",
     "text": [
      "Warning message:\n",
      "\"`data_frame()` is deprecated as of tibble 1.1.0.\n",
      "Please use `tibble()` instead.\n",
      "This warning is displayed once every 8 hours.\n",
      "Call `lifecycle::last_warnings()` to see where this warning was generated.\""
     ]
    },
    {
     "data": {
      "image/png": "[encoded data removed]",
      "text/plain": [
       "plot without title"
      ]
     },
     "metadata": {},
     "output_type": "display_data"
    }
   ],
   "source": [
    "errors <- list()\n",
    "models <- list()\n",
    "pred_df <- data_frame(V1 = 1:506)\n",
    "for (i in 1:9) {\n",
    "    models[[i]] <- lm(nox ~ poly(dis, i), data = Boston)\n",
    "    preds <- predict(models[[i]])\n",
    "    pred_df[[i]] <- preds\n",
    "    errors[[i]] <- sqrt(mean((Boston$nox - preds)^2))\n",
    "}\n",
    "\n",
    "errors <- unlist(errors)\n",
    "\n",
    "names(pred_df) <- paste('Level', 1:9)\n",
    "Boston %>%\n",
    "    mutate(pred = predict(model, Boston)) %>%\n",
    "    ggplot() +\n",
    "    geom_point(aes(dis, nox, col = '1')) +\n",
    "    geom_line(aes(dis, pred, col = '2'), size = 1.5) +\n",
    "    scale_color_manual(name = 'Value Type',\n",
    "                       labels = c('Observed', 'Predicted'),\n",
    "                       values = c('#56B4E9', '#E69F00'))"
   ]
  },
  {
   "cell_type": "code",
   "execution_count": 21,
   "id": "auburn-clinic",
   "metadata": {},
   "outputs": [
    {
     "data": {
      "image/png": "[encoded data removed]",
      "text/plain": [
       "plot without title"
      ]
     },
     "metadata": {},
     "output_type": "display_data"
    }
   ],
   "source": [
    "Boston %>%\n",
    "    cbind(pred_df) %>%\n",
    "    gather(Polynomial, prediction, -(1:14)) %>%\n",
    "    mutate(Polynomial = factor(Polynomial, \n",
    "                               levels = unique(as.character(Polynomial)))) %>%\n",
    "    ggplot() + \n",
    "    ggtitle('Predicted Values for Each Level of Polynomial') +\n",
    "    geom_point(aes(dis, nox, col = '1')) + \n",
    "    geom_line(aes(dis, prediction, col = '2'), size = 1.5) +\n",
    "    scale_color_manual(name = 'Value Type',\n",
    "                       labels = c('Observed', 'Predicted'),\n",
    "                       values = c('#56B4E9', '#E69F00')) +\n",
    "    facet_wrap(~ Polynomial, nrow = 3)"
   ]
  },
  {
   "cell_type": "markdown",
   "id": "limiting-backing",
   "metadata": {},
   "source": [
    "(c) Perform cross-validation or another approach to select the optimal degree for the polynomial, and explain your results."
   ]
  },
  {
   "cell_type": "code",
   "execution_count": 22,
   "id": "mobile-congress",
   "metadata": {},
   "outputs": [
    {
     "data": {
      "image/png": "[encoded data removed]",
      "text/plain": [
       "plot without title"
      ]
     },
     "metadata": {},
     "output_type": "display_data"
    }
   ],
   "source": [
    "errors <- list()\n",
    "\n",
    "folds <- sample(1:10, 506, replace = TRUE)\n",
    "errors <- matrix(NA, 10, 9)\n",
    "for (k in 1:10) {\n",
    "    for (i in 1:9) {\n",
    "        model <- lm(nox ~ poly(dis, i), data = Boston[folds != k,])\n",
    "        pred <- predict(model, Boston[folds == k,])\n",
    "        errors[k, i] <- sqrt(mean((Boston$nox[folds == k] - pred)^2))\n",
    "    }\n",
    "}\n",
    "\n",
    "errors <- apply(errors, 2, mean)\n",
    "\n",
    "data_frame(RMSE = errors) %>%\n",
    "    mutate(Poly = row_number()) %>%\n",
    "    ggplot(aes(Poly, RMSE, fill = Poly == which.min(errors))) +\n",
    "    geom_col() + theme_tufte() + guides(fill = FALSE) +\n",
    "    scale_x_continuous(breaks = 1:9) +\n",
    "    coord_cartesian(ylim = range(errors))"
   ]
  },
  {
   "cell_type": "markdown",
   "id": "ordered-powell",
   "metadata": {},
   "source": [
    "(d) Use the bs() function to fit a regression spline to predict nox using dis. Report the output for the fit using four degrees of freedom. How did you choose the knots? Plot the resulting fit."
   ]
  },
  {
   "cell_type": "code",
   "execution_count": 23,
   "id": "numerical-secondary",
   "metadata": {},
   "outputs": [
    {
     "name": "stderr",
     "output_type": "stream",
     "text": [
      "Loading required package: splines\n"
     ]
    },
    {
     "data": {
      "text/plain": [
       "\n",
       "\n",
       "|term             | estimate| std.error| statistic| p.value|\n",
       "|:----------------|--------:|---------:|---------:|-------:|\n",
       "|(Intercept)      |    0.734|     0.015|    50.306|   0.000|\n",
       "|bs(dis, df = 4)1 |   -0.058|     0.022|    -2.658|   0.008|\n",
       "|bs(dis, df = 4)2 |   -0.464|     0.024|   -19.596|   0.000|\n",
       "|bs(dis, df = 4)3 |   -0.200|     0.043|    -4.634|   0.000|\n",
       "|bs(dis, df = 4)4 |   -0.389|     0.046|    -8.544|   0.000|"
      ]
     },
     "metadata": {},
     "output_type": "display_data"
    }
   ],
   "source": [
    "require(splines)\n",
    "model <- lm(nox ~ bs(dis, df = 4), data = Boston)\n",
    "\n",
    "kable(tidy(model), digits = 3)"
   ]
  },
  {
   "cell_type": "code",
   "execution_count": 24,
   "id": "suitable-suggestion",
   "metadata": {},
   "outputs": [
    {
     "data": {
      "image/png": "[encoded data removed]",
      "text/plain": [
       "plot without title"
      ]
     },
     "metadata": {},
     "output_type": "display_data"
    }
   ],
   "source": [
    "Boston %>%\n",
    "    mutate(pred = predict(model)) %>%\n",
    "    ggplot() +\n",
    "    geom_point(aes(dis, nox, col = '1')) + \n",
    "    geom_line(aes(dis, pred, col = '2'), size = 1.5) +\n",
    "    scale_color_manual(name = 'Value Type',\n",
    "                       labels = c('Observed', 'Predicted'),\n",
    "                       values = c('#56B4E9', '#E69F00')) +\n",
    "    theme_tufte(base_size = 13)\n",
    "\n"
   ]
  },
  {
   "cell_type": "markdown",
   "id": "strange-chrome",
   "metadata": {},
   "source": [
    "(e) Now fit a regression spline for a range of degrees of freedom, and plot the resulting fits and report the resulting RSS. Describe the results obtained."
   ]
  },
  {
   "cell_type": "code",
   "execution_count": 25,
   "id": "criminal-climb",
   "metadata": {},
   "outputs": [
    {
     "data": {
      "image/png": "[encoded data removed]",
      "text/plain": [
       "plot without title"
      ]
     },
     "metadata": {},
     "output_type": "display_data"
    }
   ],
   "source": [
    "Boston %>%\n",
    "    cbind(pred_df) %>%\n",
    "    gather(df, prediction, -(1:14)) %>%\n",
    "    mutate(df = factor(df, levels = unique(as.character(df)))) %>%\n",
    "    ggplot() + ggtitle('Predicted Values for Each Level of Polynomial') +\n",
    "    geom_point(aes(dis, nox, col = '1')) + \n",
    "    geom_line(aes(dis, prediction, col = '2'), size = 1.5) +\n",
    "    scale_color_manual(name = 'Value Type',\n",
    "                       labels = c('Observed', 'Predicted'),\n",
    "                       values = c('#56B4E9', '#E69F00')) +\n",
    "    facet_wrap(~ df, nrow = 3)"
   ]
  },
  {
   "cell_type": "markdown",
   "id": "greater-publication",
   "metadata": {},
   "source": [
    "(f) Perform cross-validation or another approach in order to select the best degrees of freedom for a regression spline on this data. Describe your results."
   ]
  },
  {
   "cell_type": "code",
   "execution_count": 26,
   "id": "veterinary-government",
   "metadata": {},
   "outputs": [
    {
     "name": "stderr",
     "output_type": "stream",
     "text": [
      "Warning message in bs(nox, df = i):\n",
      "\"'df' was too small; have used 3\"Warning message in bs(nox, df = i):\n",
      "\"'df' was too small; have used 3\"Warning message in bs(nox, df = i):\n",
      "\"'df' was too small; have used 3\"Warning message in bs(nox, df = i):\n",
      "\"'df' was too small; have used 3\"Warning message in bs(nox, df = i):\n",
      "\"'df' was too small; have used 3\"Warning message in bs(nox, df = i):\n",
      "\"'df' was too small; have used 3\"Warning message in bs(nox, df = i):\n",
      "\"'df' was too small; have used 3\"Warning message in bs(nox, df = i):\n",
      "\"'df' was too small; have used 3\"Warning message in bs(nox, df = i):\n",
      "\"'df' was too small; have used 3\"Warning message in bs(nox, df = i):\n",
      "\"'df' was too small; have used 3\"Warning message in bs(nox, df = i):\n",
      "\"'df' was too small; have used 3\"Warning message in bs(nox, df = i):\n",
      "\"'df' was too small; have used 3\"Warning message in bs(nox, df = i):\n",
      "\"'df' was too small; have used 3\"Warning message in bs(nox, df = i):\n",
      "\"'df' was too small; have used 3\"Warning message in bs(nox, df = i):\n",
      "\"'df' was too small; have used 3\"Warning message in bs(nox, degree = 3L, knots = numeric(0), Boundary.knots = c(0.389, :\n",
      "\"some 'x' values beyond boundary knots may cause ill-conditioned bases\"Warning message in bs(nox, df = i):\n",
      "\"'df' was too small; have used 3\"Warning message in bs(nox, degree = 3L, knots = numeric(0), Boundary.knots = c(0.389, :\n",
      "\"some 'x' values beyond boundary knots may cause ill-conditioned bases\"Warning message in bs(nox, degree = 3L, knots = numeric(0), Boundary.knots = c(0.389, :\n",
      "\"some 'x' values beyond boundary knots may cause ill-conditioned bases\"Warning message in bs(nox, degree = 3L, knots = c(`50%` = 0.538), Boundary.knots = c(0.389, :\n",
      "\"some 'x' values beyond boundary knots may cause ill-conditioned bases\"Warning message in bs(nox, degree = 3L, knots = c(`33.33333%` = 0.489, `66.66667%` = 0.605:\n",
      "\"some 'x' values beyond boundary knots may cause ill-conditioned bases\"Warning message in bs(nox, degree = 3L, knots = c(`25%` = 0.452, `50%` = 0.538, :\n",
      "\"some 'x' values beyond boundary knots may cause ill-conditioned bases\"Warning message in bs(nox, degree = 3L, knots = c(`20%` = 0.442, `40%` = 0.507, :\n",
      "\"some 'x' values beyond boundary knots may cause ill-conditioned bases\"Warning message in bs(nox, degree = 3L, knots = c(`16.66667%` = 0.437, `33.33333%` = 0.489, :\n",
      "\"some 'x' values beyond boundary knots may cause ill-conditioned bases\"Warning message in bs(nox, degree = 3L, knots = c(`14.28571%` = 0.433857142857143, :\n",
      "\"some 'x' values beyond boundary knots may cause ill-conditioned bases\"Warning message in bs(nox, df = i):\n",
      "\"'df' was too small; have used 3\"Warning message in bs(nox, df = i):\n",
      "\"'df' was too small; have used 3\"Warning message in bs(nox, df = i):\n",
      "\"'df' was too small; have used 3\"Warning message in bs(nox, df = i):\n",
      "\"'df' was too small; have used 3\""
     ]
    },
    {
     "data": {
      "image/png": "[encoded data removed]",
      "text/plain": [
       "plot without title"
      ]
     },
     "metadata": {},
     "output_type": "display_data"
    }
   ],
   "source": [
    "folds <- sample(1:10, size = 506, replace = TRUE)\n",
    "errors <- matrix(NA, 10, 9)\n",
    "models <- list()\n",
    "for (k in 1:10) {\n",
    "    for (i in 1:9) {\n",
    "        models[[i]] <- lm(nox ~ bs(nox, df = i), data = Boston[folds != k,])\n",
    "        pred <- predict(models[[i]], Boston[folds == k,])\n",
    "        errors[k, i] <- sqrt(mean((Boston$nox[folds == k] - pred)^2))\n",
    "    }\n",
    "}\n",
    "\n",
    "errors <- apply(errors, 2, mean)\n",
    "\n",
    "data_frame(RMSE = errors) %>%\n",
    "    mutate(df = row_number()) %>%\n",
    "    ggplot(aes(df, RMSE, fill = df == which.min(errors))) +\n",
    "    geom_col() + theme_tufte() + guides(fill = FALSE) +\n",
    "    scale_x_continuous(breaks = 1:9) +\n",
    "    coord_cartesian(ylim = range(errors))"
   ]
  },
  {
   "cell_type": "markdown",
   "id": "designing-testimony",
   "metadata": {},
   "source": [
    "### Chapter 7 Exercise 10 (Page 300, Applied)"
   ]
  },
  {
   "cell_type": "markdown",
   "id": "neutral-firmware",
   "metadata": {},
   "source": [
    "This question relates to the College data set.\n",
    "\n",
    "(a) Split the data into a training set and a test set. Using out-of-state tuition as the response and the other variables as the predictors, perform forward step-wise selection on the training set in order to identify a satisfactory model that uses just a subset of the predictors."
   ]
  },
  {
   "cell_type": "code",
   "execution_count": 27,
   "id": "bored-catholic",
   "metadata": {},
   "outputs": [
    {
     "name": "stderr",
     "output_type": "stream",
     "text": [
      "Warning message:\n",
      "\"package 'leaps' was built under R version 3.6.3\""
     ]
    },
    {
     "data": {
      "text/plain": [
       "Subset selection object\n",
       "Call: regsubsets.formula(Outstate ~ ., data = College, subset = train, \n",
       "    method = \"forward\")\n",
       "17 Variables  (and intercept)\n",
       "            Forced in Forced out\n",
       "PrivateYes      FALSE      FALSE\n",
       "Apps            FALSE      FALSE\n",
       "Accept          FALSE      FALSE\n",
       "Enroll          FALSE      FALSE\n",
       "Top10perc       FALSE      FALSE\n",
       "Top25perc       FALSE      FALSE\n",
       "F.Undergrad     FALSE      FALSE\n",
       "P.Undergrad     FALSE      FALSE\n",
       "Room.Board      FALSE      FALSE\n",
       "Books           FALSE      FALSE\n",
       "Personal        FALSE      FALSE\n",
       "PhD             FALSE      FALSE\n",
       "Terminal        FALSE      FALSE\n",
       "S.F.Ratio       FALSE      FALSE\n",
       "perc.alumni     FALSE      FALSE\n",
       "Expend          FALSE      FALSE\n",
       "Grad.Rate       FALSE      FALSE\n",
       "1 subsets of each size up to 8\n",
       "Selection Algorithm: forward\n",
       "         PrivateYes Apps Accept Enroll Top10perc Top25perc F.Undergrad\n",
       "1  ( 1 ) \" \"        \" \"  \" \"    \" \"    \" \"       \" \"       \" \"        \n",
       "2  ( 1 ) \"*\"        \" \"  \" \"    \" \"    \" \"       \" \"       \" \"        \n",
       "3  ( 1 ) \"*\"        \" \"  \" \"    \" \"    \" \"       \" \"       \" \"        \n",
       "4  ( 1 ) \"*\"        \" \"  \" \"    \" \"    \" \"       \" \"       \" \"        \n",
       "5  ( 1 ) \"*\"        \" \"  \" \"    \" \"    \" \"       \" \"       \" \"        \n",
       "6  ( 1 ) \"*\"        \" \"  \" \"    \" \"    \" \"       \" \"       \" \"        \n",
       "7  ( 1 ) \"*\"        \" \"  \" \"    \" \"    \" \"       \" \"       \"*\"        \n",
       "8  ( 1 ) \"*\"        \" \"  \"*\"    \" \"    \" \"       \" \"       \"*\"        \n",
       "         P.Undergrad Room.Board Books Personal PhD Terminal S.F.Ratio\n",
       "1  ( 1 ) \" \"         \" \"        \" \"   \" \"      \" \" \" \"      \" \"      \n",
       "2  ( 1 ) \" \"         \" \"        \" \"   \" \"      \" \" \" \"      \" \"      \n",
       "3  ( 1 ) \" \"         \"*\"        \" \"   \" \"      \" \" \" \"      \" \"      \n",
       "4  ( 1 ) \" \"         \"*\"        \" \"   \" \"      \" \" \" \"      \" \"      \n",
       "5  ( 1 ) \" \"         \"*\"        \" \"   \" \"      \"*\" \" \"      \" \"      \n",
       "6  ( 1 ) \" \"         \"*\"        \" \"   \" \"      \"*\" \" \"      \" \"      \n",
       "7  ( 1 ) \" \"         \"*\"        \" \"   \" \"      \"*\" \" \"      \" \"      \n",
       "8  ( 1 ) \" \"         \"*\"        \" \"   \" \"      \"*\" \" \"      \" \"      \n",
       "         perc.alumni Expend Grad.Rate\n",
       "1  ( 1 ) \" \"         \"*\"    \" \"      \n",
       "2  ( 1 ) \" \"         \"*\"    \" \"      \n",
       "3  ( 1 ) \" \"         \"*\"    \" \"      \n",
       "4  ( 1 ) \" \"         \"*\"    \"*\"      \n",
       "5  ( 1 ) \" \"         \"*\"    \"*\"      \n",
       "6  ( 1 ) \"*\"         \"*\"    \"*\"      \n",
       "7  ( 1 ) \"*\"         \"*\"    \"*\"      \n",
       "8  ( 1 ) \"*\"         \"*\"    \"*\"      "
      ]
     },
     "metadata": {},
     "output_type": "display_data"
    }
   ],
   "source": [
    "library(ISLR)\n",
    "library(leaps)\n",
    "train <- sample(1: nrow(College), nrow(College)/2)\n",
    "test <- -train\n",
    "fit <- regsubsets(Outstate ~ ., data = College, subset = train, method = 'forward')\n",
    "fit.summary <- summary(fit)\n",
    "fit.summary"
   ]
  },
  {
   "cell_type": "markdown",
   "id": "neutral-termination",
   "metadata": {},
   "source": [
    "(b) Fit a GAM on the training data, using out-of-state tuition as the response and the features selected in the previous step as the predictors. Plot the results, and explain your findings."
   ]
  },
  {
   "cell_type": "code",
   "execution_count": 31,
   "id": "departmental-poland",
   "metadata": {},
   "outputs": [
    {
     "name": "stderr",
     "output_type": "stream",
     "text": [
      "Warning message in model.matrix.default(mt, mf, contrasts):\n",
      "\"non-list contrasts argument ignored\""
     ]
    },
    {
     "data": {
      "image/png": "[encoded data removed]",
      "text/plain": [
       "plot without title"
      ]
     },
     "metadata": {},
     "output_type": "display_data"
    }
   ],
   "source": [
    "library(gam)\n",
    "gam.mod <- gam(Outstate ~ Private + s(Room.Board, 5) + s(Terminal, 5) + s(perc.alumni, 5) + s(Expend, 5) + s(Grad.Rate, 5), data = College, subset = train)\n",
    "par(mfrow = c(2,3))\n",
    "plot(gam.mod, se = TRUE, col = 'blue')"
   ]
  },
  {
   "cell_type": "markdown",
   "id": "sharing-classroom",
   "metadata": {},
   "source": [
    "(c) Evaluate the model obtained on the test set, and explain the results obtained."
   ]
  },
  {
   "cell_type": "code",
   "execution_count": 32,
   "id": "typical-belarus",
   "metadata": {},
   "outputs": [
    {
     "data": {
      "text/html": [
       "0.776249603459365"
      ],
      "text/latex": [
       "0.776249603459365"
      ],
      "text/markdown": [
       "0.776249603459365"
      ],
      "text/plain": [
       "[1] 0.7762496"
      ]
     },
     "metadata": {},
     "output_type": "display_data"
    }
   ],
   "source": [
    "preds <- predict(gam.mod, College[test, ])\n",
    "RSS <- sum((College[test, ]$Outstate - preds)^2) # based on equation (3.16)\n",
    "TSS <- sum((College[test, ]$Outstate - mean(College[test, ]$Outstate)) ^ 2)\n",
    "1 - (RSS / TSS)   # based on equation"
   ]
  },
  {
   "cell_type": "markdown",
   "id": "searching-medline",
   "metadata": {},
   "source": [
    "(d) For which variables, if any, is there evidence of a non-linear relationship with the response?"
   ]
  },
  {
   "cell_type": "code",
   "execution_count": 33,
   "id": "filled-bangladesh",
   "metadata": {},
   "outputs": [
    {
     "data": {
      "text/plain": [
       "\n",
       "Call: gam(formula = Outstate ~ Private + s(Room.Board, 5) + s(Terminal, \n",
       "    5) + s(perc.alumni, 5) + s(Expend, 5) + s(Grad.Rate, 5), \n",
       "    data = College, subset = train)\n",
       "Deviance Residuals:\n",
       "     Min       1Q   Median       3Q      Max \n",
       "-6805.32  -970.31   -21.18  1137.66  4436.10 \n",
       "\n",
       "(Dispersion Parameter for gaussian family taken to be 3183818)\n",
       "\n",
       "    Null Deviance: 6138001825 on 387 degrees of freedom\n",
       "Residual Deviance: 1149357897 on 360.9999 degrees of freedom\n",
       "AIC: 6938.864 \n",
       "\n",
       "Number of Local Scoring Iterations: 2 \n",
       "\n",
       "Anova for Parametric Effects\n",
       "                   Df     Sum Sq    Mean Sq F value    Pr(>F)    \n",
       "Private             1 1687025859 1687025859 529.875 < 2.2e-16 ***\n",
       "s(Room.Board, 5)    1 1310801944 1310801944 411.708 < 2.2e-16 ***\n",
       "s(Terminal, 5)      1  353882608  353882608 111.150 < 2.2e-16 ***\n",
       "s(perc.alumni, 5)   1  279484295  279484295  87.783 < 2.2e-16 ***\n",
       "s(Expend, 5)        1  611402231  611402231 192.034 < 2.2e-16 ***\n",
       "s(Grad.Rate, 5)     1   65853520   65853520  20.684 7.407e-06 ***\n",
       "Residuals         361 1149357897    3183818                      \n",
       "---\n",
       "Signif. codes:  0 '***' 0.001 '**' 0.01 '*' 0.05 '.' 0.1 ' ' 1\n",
       "\n",
       "Anova for Nonparametric Effects\n",
       "                  Npar Df  Npar F     Pr(F)    \n",
       "(Intercept)                                    \n",
       "Private                                        \n",
       "s(Room.Board, 5)        4  3.7745  0.005063 ** \n",
       "s(Terminal, 5)          4  2.5589  0.038443 *  \n",
       "s(perc.alumni, 5)       4  1.1295  0.342271    \n",
       "s(Expend, 5)            4 16.1716 3.412e-12 ***\n",
       "s(Grad.Rate, 5)         4  1.2962  0.271054    \n",
       "---\n",
       "Signif. codes:  0 '***' 0.001 '**' 0.01 '*' 0.05 '.' 0.1 ' ' 1"
      ]
     },
     "metadata": {},
     "output_type": "display_data"
    }
   ],
   "source": [
    "summary(gam.mod)"
   ]
  },
  {
   "cell_type": "markdown",
   "id": "judicial-container",
   "metadata": {},
   "source": [
    "Expend has a strong relationship while Grad. Rate has a very weak relationship."
   ]
  }
 ],
 "metadata": {
  "kernelspec": {
   "display_name": "R",
   "language": "R",
   "name": "ir"
  },
  "language_info": {
   "codemirror_mode": "r",
   "file_extension": ".r",
   "mimetype": "text/x-r-source",
   "name": "R",
   "pygments_lexer": "r",
   "version": "3.6.1"
  }
 },
 "nbformat": 4,
 "nbformat_minor": 5
}
